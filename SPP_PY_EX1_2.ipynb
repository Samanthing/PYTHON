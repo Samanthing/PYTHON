{
  "nbformat": 4,
  "nbformat_minor": 0,
  "metadata": {
    "colab": {
      "provenance": [],
      "authorship_tag": "ABX9TyOULrOQvFkrgl+24ivnQgFg",
      "include_colab_link": true
    },
    "kernelspec": {
      "name": "python3",
      "display_name": "Python 3"
    },
    "language_info": {
      "name": "python"
    }
  },
  "cells": [
    {
      "cell_type": "markdown",
      "metadata": {
        "id": "view-in-github",
        "colab_type": "text"
      },
      "source": [
        "<a href=\"https://colab.research.google.com/github/Samanthing/PYTHON/blob/main/SPP_PY_EX1_2.ipynb\" target=\"_parent\"><img src=\"https://colab.research.google.com/assets/colab-badge.svg\" alt=\"Open In Colab\"/></a>"
      ]
    },
    {
      "cell_type": "code",
      "execution_count": 46,
      "metadata": {
        "id": "q7Zdz_1lp_0H",
        "colab": {
          "base_uri": "https://localhost:8080/"
        },
        "outputId": "af43529a-4bcc-4124-ddea-7c2e551071fa"
      },
      "outputs": [
        {
          "output_type": "stream",
          "name": "stdout",
          "text": [
            "Ingresa un numero: 5\n",
            "4 x 5\n",
            "3 x 20\n",
            "2 x 60\n",
            "1 x 120\n",
            "El factorial de 5 es 120\n"
          ]
        }
      ],
      "source": [
        "##Escribe una funcion de Python en collaboratory que realice lo siguiente: funcion que retorne el factorial de un numero dado  \n",
        "## Escribir codigo que mande llamar la funcion y desplegar el resultado, Escribir enlace a GITHUB a un dcto que se llame INICIALES_PY_exa1\n",
        "\n",
        "def fact():\n",
        "    try:\n",
        "        i=0\n",
        "        num=int(input(\"Ingresa un numero: \"))\n",
        "        numant=num\n",
        "        sig=num-1\n",
        "        while i<num-1:\n",
        "            fact=numant*sig\n",
        "            print(f\"{sig} x {numant}\")\n",
        "            numant=fact\n",
        "            sig=sig-1\n",
        "            i+=1\n",
        "        print(f\"El factorial de {num} es {fact}\")\n",
        "    except:\n",
        "        print(\"ERROR: el valor debe ser un numero\")\n",
        "fact()\n",
        "\n",
        "\n",
        "\n",
        "\n"
      ]
    },
    {
      "cell_type": "code",
      "source": [
        "##Escribe una funcion de Python en collaboratory que realice lo siguiente: funcion que retorne una lista con 30 numeros generados aleatorios (20-100) no repetidos \n",
        "##Escribir codigo que mande llamar la funcion y desplegar el resultado,\n",
        "import random\n",
        "def numsale():\n",
        "    for i in range(1,31):\n",
        "        num=random.randint(20,100)\n",
        "        print(f\"{i}- {num}\")\n",
        "\n",
        "numsale()"
      ],
      "metadata": {
        "colab": {
          "base_uri": "https://localhost:8080/"
        },
        "id": "BwjpPW3vwyXs",
        "outputId": "26782c25-9012-4e16-ffd1-56a73e77cd22"
      },
      "execution_count": 48,
      "outputs": [
        {
          "output_type": "stream",
          "name": "stdout",
          "text": [
            "1- 76\n",
            "2- 34\n",
            "3- 65\n",
            "4- 57\n",
            "5- 32\n",
            "6- 83\n",
            "7- 87\n",
            "8- 26\n",
            "9- 41\n",
            "10- 40\n",
            "11- 69\n",
            "12- 91\n",
            "13- 92\n",
            "14- 41\n",
            "15- 92\n",
            "16- 86\n",
            "17- 58\n",
            "18- 45\n",
            "19- 20\n",
            "20- 89\n",
            "21- 31\n",
            "22- 79\n",
            "23- 32\n",
            "24- 47\n",
            "25- 48\n",
            "26- 69\n",
            "27- 32\n",
            "28- 22\n",
            "29- 36\n",
            "30- 63\n"
          ]
        }
      ]
    }
  ]
}