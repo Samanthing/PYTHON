{
  "nbformat": 4,
  "nbformat_minor": 0,
  "metadata": {
    "colab": {
      "provenance": [],
      "authorship_tag": "ABX9TyNyNp+x84z6CYsq93Jdyltp",
      "include_colab_link": true
    },
    "kernelspec": {
      "name": "python3",
      "display_name": "Python 3"
    },
    "language_info": {
      "name": "python"
    }
  },
  "cells": [
    {
      "cell_type": "markdown",
      "metadata": {
        "id": "view-in-github",
        "colab_type": "text"
      },
      "source": [
        "<a href=\"https://colab.research.google.com/github/Samanthing/PYTHON/blob/main/SPP_PY_ACT2.ipynb\" target=\"_parent\"><img src=\"https://colab.research.google.com/assets/colab-badge.svg\" alt=\"Open In Colab\"/></a>"
      ]
    },
    {
      "cell_type": "markdown",
      "source": [
        "# ACTIVIDAD 2"
      ],
      "metadata": {
        "id": "HvV5UoIRiCng"
      }
    },
    {
      "cell_type": "markdown",
      "source": [
        "1- Programa en Python que lea 2 números enteros, usar una condición y analizar los dos números y desplegar cual de los números es el mayor."
      ],
      "metadata": {
        "id": "eP-hW9qZlCFH"
      }
    },
    {
      "cell_type": "code",
      "execution_count": 4,
      "metadata": {
        "colab": {
          "base_uri": "https://localhost:8080/"
        },
        "id": "DlkBBOpjiBdj",
        "outputId": "b393f607-3197-40d1-ed55-02ae68a29d43"
      },
      "outputs": [
        {
          "output_type": "stream",
          "name": "stdout",
          "text": [
            "Ingresa un numero 5\n",
            "Ingresa otro numero10\n",
            "El numero mayor es el 2: 10\n"
          ]
        }
      ],
      "source": [
        "num1 = int(input(\"Ingresa un numero: \"))\n",
        "num2 = int(input(\"Ingresa otro numero: \"))\n",
        "if num1>num2:\n",
        "    print(f\"El numero mayor es el 1: {num1}\")\n",
        "if num2>num1:\n",
        "    print(f\"El numero mayor es el 2: {num2}\")"
      ]
    },
    {
      "cell_type": "markdown",
      "source": [
        " 2- Programa en PythonAlgoritmo que lea 4 calificaciones de un alumno, calcular y desplegar el promedio acompañado de la leyenda \"APROBADO\" o \"REPROBADO\""
      ],
      "metadata": {
        "id": "q3wkyNuenGg-"
      }
    },
    {
      "cell_type": "code",
      "source": [
        "calf1 = int(input(\"Ingresa la primer calificacion: \"))\n",
        "calf2 = int(input(\"Ingresa la segunda calificacion: \"))\n",
        "calf3 = int(input(\"Ingresa la tercer calificacion: \"))\n",
        "calf4 = int(input(\"Ingresa la cuarta calificacion: \"))\n",
        "prom = (calf1+calf2+calf3+calf4)/4\n",
        "if prom<60:\n",
        "    print(f\"Tu promedio es de: {prom}\")\n",
        "    print(\"REPROBADO\")\n",
        "if prom>60:\n",
        "    print(f\"Tu promedio es de: {prom}\")\n",
        "    print(\"APROBADO\")"
      ],
      "metadata": {
        "colab": {
          "base_uri": "https://localhost:8080/"
        },
        "id": "C7D3fAAInGPQ",
        "outputId": "16c6061e-aa91-4c5e-9efd-6f5d94c80276"
      },
      "execution_count": 5,
      "outputs": [
        {
          "output_type": "stream",
          "name": "stdout",
          "text": [
            "Ingresa la primer calificacion: 100\n",
            "Ingresa la segunda calificacion: 89\n",
            "Ingresa la tercer calificacion: 70\n",
            "Ingresa la cuarta calificacion: 80\n",
            "Tu promedio es de: 84.75\n",
            "APROBADO\n"
          ]
        }
      ]
    },
    {
      "cell_type": "markdown",
      "source": [
        "3- Programa en PythonAlgoritmo que a través de opciones (1.- HOMBRE 2.- MUJER ) preguntar al usuario cual es su sexo y desplegar la leyenda “HOMBRE ”, “MUJER”"
      ],
      "metadata": {
        "id": "axIhWJNGokYo"
      }
    },
    {
      "cell_type": "code",
      "source": [
        "print(\"Escoge tu genero\")\n",
        "print(\"1.-HOMBRE\")\n",
        "print(\"2.-MUJER\")\n",
        "genero = int(input(\"Escoge: \"))\n",
        "if genero==1:\n",
        "    print(\"HOLA, ERES HOMBRE\")\n",
        "if genero==2:\n",
        "    print(\"HOLA, ERES MUJER\")"
      ],
      "metadata": {
        "colab": {
          "base_uri": "https://localhost:8080/"
        },
        "id": "cUWu8vYvoljc",
        "outputId": "65c2b927-e11e-46b2-e017-850de27e7f09"
      },
      "execution_count": 7,
      "outputs": [
        {
          "output_type": "stream",
          "name": "stdout",
          "text": [
            "Escoge tu genero\n",
            "1.-HOMBRE\n",
            "2.-MUJER\n",
            "Escoge: 2\n",
            "HOLA, ERES MUJER\n"
          ]
        }
      ]
    },
    {
      "cell_type": "markdown",
      "source": [
        "4-Programa en Python que lea un número entero, y desplegar si el número es “PAR” o “IMPAR”"
      ],
      "metadata": {
        "id": "QTPAC9XfqAqu"
      }
    },
    {
      "cell_type": "code",
      "source": [
        "num = int(input(\"Ingresa un numero: \"))\n",
        "res=num%2\n",
        "if res == 0:\n",
        "  print(\"Tu numero es PAR\")\n",
        "if res != 0:\n",
        "  print(\"Tu numero es IMPAR\")\n"
      ],
      "metadata": {
        "colab": {
          "base_uri": "https://localhost:8080/"
        },
        "id": "SNnMmvf8qBH6",
        "outputId": "e6d24abc-e71c-463a-e4eb-2616d2c76eb2"
      },
      "execution_count": 15,
      "outputs": [
        {
          "output_type": "stream",
          "name": "stdout",
          "text": [
            "Ingresa un numero: 4\n",
            "Tu numero es PAR\n"
          ]
        }
      ]
    },
    {
      "cell_type": "markdown",
      "source": [
        "5- Programa en Python que lea 2 números enteros, usar una condición y analizar los dos números y desplegar cual de los números es el mayor."
      ],
      "metadata": {
        "id": "VP74C40ar27M"
      }
    },
    {
      "cell_type": "code",
      "source": [
        "num1 = int(input(\"Ingresa un numero ENTERO: \"))\n",
        "num2 = int(input(\"Ingresa otro numero ENTERO: \"))\n",
        "if num1>num2: \n",
        "    print(f\"El numero mayor es el 1: {num1}\")\n",
        "else: \n",
        "    print(f\"El numero mayor es el 2: {num2}\")\n",
        "  "
      ],
      "metadata": {
        "colab": {
          "base_uri": "https://localhost:8080/"
        },
        "id": "0-8wpZHcr7W3",
        "outputId": "034796ae-606f-4c50-80b4-84553ca5b4b3"
      },
      "execution_count": 18,
      "outputs": [
        {
          "output_type": "stream",
          "name": "stdout",
          "text": [
            "Ingresa un numero ENTERO: 35\n",
            "Ingresa otro numero ENTERO: 68\n",
            "El numero mayor es el 2: 68\n"
          ]
        }
      ]
    },
    {
      "cell_type": "markdown",
      "source": [
        "6- Programa en Python que lea 4 calificaciones de un alumno, calcular y desplegar el promedio acompañado de la leyenda APROBADO o REPROBADO"
      ],
      "metadata": {
        "id": "jm6j0jfouJEf"
      }
    },
    {
      "cell_type": "code",
      "source": [
        "calf1 = int(input(\"Ingresa la primer calificacion: \"))\n",
        "calf2 = int(input(\"Ingresa la segunda calificacion: \"))\n",
        "calf3 = int(input(\"Ingresa la tercer calificacion: \"))\n",
        "calf4 = int(input(\"Ingresa la cuarta calificacion: \"))\n",
        "prom = (calf1+calf2+calf3+calf4)/4\n",
        "if prom<60:\n",
        "    print(f\"Tu promedio es de: {prom}\")\n",
        "    print(\"REPROBADO\")\n",
        "else:\n",
        "    print(f\"Tu promedio es de: {prom}\")\n",
        "    print(\"APROBADO\")"
      ],
      "metadata": {
        "colab": {
          "base_uri": "https://localhost:8080/"
        },
        "id": "XSvXQqp7uJSp",
        "outputId": "70da25d4-6fde-4397-baf5-30f5c0395239"
      },
      "execution_count": 19,
      "outputs": [
        {
          "output_type": "stream",
          "name": "stdout",
          "text": [
            "Ingresa la primer calificacion: 100\n",
            "Ingresa la segunda calificacion: 70\n",
            "Ingresa la tercer calificacion: 89\n",
            "Ingresa la cuarta calificacion: 79\n",
            "Tu promedio es de: 84.5\n",
            "APROBADO\n"
          ]
        }
      ]
    },
    {
      "cell_type": "markdown",
      "source": [
        "7- Programa en Python que a través de opciones (1.- HOMBRE 2.- MUJER ) preguntar al usuario cual es su sexo y desplegar la leyenda “HOMBRE ”, “MUJER”"
      ],
      "metadata": {
        "id": "P4hSqxwpv28E"
      }
    },
    {
      "cell_type": "code",
      "source": [
        "print(\"Escoge tu genero\")\n",
        "print(\"1.-HOMBRE\")\n",
        "print(\"2.-MUJER\")\n",
        "genero = int(input(\"Escoge: \"))\n",
        "if genero==1:\n",
        "    print(\"HOLA, ERES HOMBRE\")\n",
        "else:\n",
        "    print(\"HOLA, ERES MUJER\")"
      ],
      "metadata": {
        "colab": {
          "base_uri": "https://localhost:8080/"
        },
        "id": "LTVNDCbpv2p9",
        "outputId": "abb7b85b-e81d-4f61-8841-238f8a00fa0c"
      },
      "execution_count": 20,
      "outputs": [
        {
          "output_type": "stream",
          "name": "stdout",
          "text": [
            "Escoge tu genero\n",
            "1.-HOMBRE\n",
            "2.-MUJER\n",
            "Escoge: 2\n",
            "HOLA, ERES MUJER\n"
          ]
        }
      ]
    },
    {
      "cell_type": "markdown",
      "source": [
        "8- Programa en Python que lea un número entero, y desplegar si el número es “PAR” o “IMPAR” "
      ],
      "metadata": {
        "id": "Qlezx1HcwCwi"
      }
    },
    {
      "cell_type": "code",
      "source": [
        "num = int(input(\"Ingresa un numero: \"))\n",
        "res=num%2\n",
        "if res == 0:\n",
        "  print(\"Tu numero es PAR\")\n",
        "else: \n",
        "  print(\"Tu numero es IMPAR\")"
      ],
      "metadata": {
        "colab": {
          "base_uri": "https://localhost:8080/"
        },
        "id": "f19rsDf9wC5f",
        "outputId": "c8e8b894-4e6a-4b50-bd52-2dba7cd01497"
      },
      "execution_count": 22,
      "outputs": [
        {
          "output_type": "stream",
          "name": "stdout",
          "text": [
            "Ingresa un numero: 27\n",
            "Tu numero es IMPAR\n"
          ]
        }
      ]
    }
  ]
}