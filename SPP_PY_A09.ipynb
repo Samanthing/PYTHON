{
  "nbformat": 4,
  "nbformat_minor": 0,
  "metadata": {
    "colab": {
      "provenance": [],
      "authorship_tag": "ABX9TyNWI1myYr9ll6gGBZRXT5fK",
      "include_colab_link": true
    },
    "kernelspec": {
      "name": "python3",
      "display_name": "Python 3"
    },
    "language_info": {
      "name": "python"
    }
  },
  "cells": [
    {
      "cell_type": "markdown",
      "metadata": {
        "id": "view-in-github",
        "colab_type": "text"
      },
      "source": [
        "<a href=\"https://colab.research.google.com/github/Samanthing/PYTHON/blob/main/SPP_PY_A09.ipynb\" target=\"_parent\"><img src=\"https://colab.research.google.com/assets/colab-badge.svg\" alt=\"Open In Colab\"/></a>"
      ]
    },
    {
      "cell_type": "markdown",
      "source": [
        "## ACTIVIDAD 9 - SAMANTHA PEREZ 00368933"
      ],
      "metadata": {
        "id": "UTYuKReLghSv"
      }
    },
    {
      "cell_type": "code",
      "source": [
        "from IPython.display import clear_output\n",
        "import random"
      ],
      "metadata": {
        "id": "frbU5QGVggYm"
      },
      "execution_count": 6,
      "outputs": []
    },
    {
      "cell_type": "code",
      "execution_count": 7,
      "metadata": {
        "id": "LAuYDBlDgKZJ"
      },
      "outputs": [],
      "source": [
        "#Validar Numeros\n",
        "def validar_num(msge,msgeError=\"ERROR: Debes ingresar un numero\"):\n",
        "    while True:\n",
        "        try:\n",
        "            num = int(input(f\"{msge}: \"))\n",
        "        except:\n",
        "            print (msgeError)\n",
        "            continue\n",
        "        else:\n",
        "            break\n",
        "    return num"
      ]
    },
    {
      "cell_type": "code",
      "source": [
        "def creardicc():\n",
        "    clave=[\"Matricula\",\"Nombre\",\"Ap Paterno\",\"Ap Materno\",\"Edad\",\"Sexo\"]\n",
        "    matricula=[368933,368747,368911,366239,369226,369555]\n",
        "    appat=[\"PEREZ\",\"ARREDONDO\",\"MARQUEZ\",\"SIQUEIROS\",\"BERISTAIN\",\"DEL REAL\"]\n",
        "    apmat=[\"PEÑA\",\"URBALEJO\",\"ONTIVEROS\",\"CHAVEZ\",\"NAVARRO\",\"RAMIREZ\"]\n",
        "    nombre=[\"SAMANTHA\",\"ISAI ALEXIS\",\"MARCELO\",\"NANCY MARIA\",\"JOSE ABRAHAM\",\"JACOB EDUARDO\"]\n",
        "    edad=[20,21,19,20,19,19]\n",
        "    sexo=[\"M\",\"H\",\"H\",\"M\",\"H\",\"H\"] \n",
        "\n",
        "    oprand=random.randint(0,6)\n",
        "    dicc=dict(zip(clave,[matricula[oprand],appat[oprand],apmat[oprand],nombre[oprand],edad[oprand],sexo[oprand]]))\n",
        "\n",
        "    print(\"Diccionario creado correctamente\")  \n",
        "\n",
        "    return dicc            "
      ],
      "metadata": {
        "id": "8UAJfbK1hVqd"
      },
      "execution_count": 16,
      "outputs": []
    },
    {
      "cell_type": "code",
      "source": [
        "def imprdicc(dicc):\n",
        "    for clave in dicc:\n",
        "        print(f\"{clave} : {dicc[clave]}\")"
      ],
      "metadata": {
        "id": "5B9ZeLxlrxxG"
      },
      "execution_count": 17,
      "outputs": []
    },
    {
      "cell_type": "code",
      "source": [
        "while True:\n",
        "    print(\"   --BIENVENIDO--  \")\n",
        "    print(\"1.-CREAR DICCIONARIO\")\n",
        "    print(\"2.-IMPRIMIR DICCIONARIO\")\n",
        "    print(\"0.-SALIR\")\n",
        "    op=validar_num(\"Escoge una opcion: \")\n",
        "    if op==1:\n",
        "        dicc=creardicc()\n",
        "        input(\"Presiona ENTER para borrar la pantalla\")\n",
        "        clear_output()\n",
        "        continue\n",
        "    elif op==2:\n",
        "        imprdicc(dicc)\n",
        "        input(\"Presiona ENTER para borrar la pantalla\")\n",
        "        clear_output()\n",
        "        continue\n",
        "    elif op==0:\n",
        "        break"
      ],
      "metadata": {
        "id": "D979lanYwmBa"
      },
      "execution_count": null,
      "outputs": []
    }
  ]
}