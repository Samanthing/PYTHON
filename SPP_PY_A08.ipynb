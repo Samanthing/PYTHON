{
  "cells": [
    {
      "cell_type": "markdown",
      "metadata": {
        "id": "view-in-github",
        "colab_type": "text"
      },
      "source": [
        "<a href=\"https://colab.research.google.com/github/Samanthing/PYTHON/blob/main/SPP_PY_A08.ipynb\" target=\"_parent\"><img src=\"https://colab.research.google.com/assets/colab-badge.svg\" alt=\"Open In Colab\"/></a>"
      ]
    },
    {
      "cell_type": "markdown",
      "metadata": {
        "id": "zE1Iaicz9GfA"
      },
      "source": [
        "## ACTIVIDAD 8 - SAMANTHA PEREZ 00368933\n"
      ]
    },
    {
      "cell_type": "code",
      "execution_count": null,
      "metadata": {
        "id": "74om4scG_mzn"
      },
      "outputs": [],
      "source": [
        "from IPython.display import clear_output\n",
        "import random"
      ]
    },
    {
      "cell_type": "code",
      "execution_count": null,
      "metadata": {
        "id": "WHkM6y_j9wuH"
      },
      "outputs": [],
      "source": [
        "#Validar Numeros\n",
        "def validar_num(msge,msgeError=\"ERROR: Debes ingresar un numero\"):\n",
        "    while True:\n",
        "        try:\n",
        "            num = int(input(f\"{msge}: \"))\n",
        "        except:\n",
        "            print (msgeError)\n",
        "            continue\n",
        "        else:\n",
        "            break\n",
        "    return num"
      ]
    },
    {
      "cell_type": "markdown",
      "metadata": {
        "id": "RzM-qVAz9UDG"
      },
      "source": [
        "# 1.- Programa en python que genere un número entre el 1 y 10 (no visible)  preguntarle al usuario que número cree que generó la computadora, el usuario tendrá 3 oportunidades de adivinar. Decir si adivino o si falló en sus 3 intentos."
      ]
    },
    {
      "cell_type": "code",
      "execution_count": null,
      "metadata": {
        "colab": {
          "base_uri": "https://localhost:8080/"
        },
        "id": "UtLUG1v29AEs",
        "outputId": "70a3ccb0-545d-4946-c3c1-a910466b0456"
      },
      "outputs": [
        {
          "name": "stdout",
          "output_type": "stream",
          "text": [
            "GRACIAS POR JUGAR\n",
            "GANASTE 0 VECES\n",
            "PERDISTE 1 VECES\n"
          ]
        }
      ],
      "source": [
        "#JUEGO NUMERO SECRETO\n",
        "print(\"BIENVENIDO\")\n",
        "op=0\n",
        "g=0\n",
        "p=0\n",
        "while op!=2:\n",
        "    print(\"Listo para jugar?\")\n",
        "    print(\"1- SI\")\n",
        "    op=validar_num(\"2- NO, SALIR\")\n",
        "    if op==2:\n",
        "        break\n",
        "    num=random.randint(1,10)\n",
        "    print(\"NUMERO GENERADO\")\n",
        "    i=0\n",
        "    while i!=3:\n",
        "        numu=validar_num(\"Que numero crees que genere?\")\n",
        "        if numu!=num:\n",
        "            print(f\"Ese numero no es, este es tu intento {i+1} \")\n",
        "            i+=1\n",
        "            if i==3:\n",
        "                print(\"Lo siento, se agotaron tus intentos. PERDISTE\")\n",
        "                print(f\"El numero era {num}\")\n",
        "                p+=1\n",
        "                break \n",
        "        if numu==num:\n",
        "            print(\"Felicidades! Ganaste:)\")\n",
        "            g+=1\n",
        "            break  \n",
        "\n",
        "clear_output()\n",
        "print(f\"GRACIAS POR JUGAR\")\n",
        "print(f\"GANASTE {g} VECES\")\n",
        "print(f\"PERDISTE {p} VECES\")\n"
      ]
    },
    {
      "cell_type": "markdown",
      "metadata": {
        "id": "kR482ips9YRp"
      },
      "source": [
        "# 2.- El juego Busca Número muestra una lista de 10 numeros, sin mostrar su contenido, Al usuario se le muestra un número que se generó aleatoriamente y el usuario tendrá 3 intentos de adivinar en qué índice del arreglo se encuentra. El usuario recibirá un mensaje que diga GANASTE, PERDISTE, TIENES UN NUEVO INTENTO. El usuario podrá jugar cuantas veces lo desee."
      ]
    },
    {
      "cell_type": "code",
      "execution_count": null,
      "metadata": {
        "id": "18Y5d6Wx9g7f"
      },
      "outputs": [],
      "source": [
        "#LISTA VERSION A\n",
        "def lista_a():\n",
        "    lista=[]\n",
        "    for i in range(10):\n",
        "        lista.append(0)\n",
        "    i=1\n",
        "    while True:\n",
        "        pos=random.randint(0,9)\n",
        "        if lista[pos]==0:\n",
        "            lista[pos]=i\n",
        "            i+=1\n",
        "        else:\n",
        "            continue\n",
        "        if i<=10:\n",
        "            continue\n",
        "        break\n",
        "    return lista"
      ]
    },
    {
      "cell_type": "code",
      "execution_count": null,
      "metadata": {
        "id": "NxMYLot9paB5"
      },
      "outputs": [],
      "source": [
        "#LISTA VERSION B\n",
        "def lista_b():\n",
        "    lista=[]\n",
        "    lista=random.sample(range(1,11),10)\n",
        "    return lista"
      ]
    },
    {
      "cell_type": "code",
      "execution_count": null,
      "metadata": {
        "id": "1TOJ2towpiXC"
      },
      "outputs": [],
      "source": [
        "#LISTA VERSION C\n",
        "def lista_c():\n",
        "    lista=list(range(1,11))\n",
        "    random.shuffle(lista)\n",
        "    return lista"
      ]
    },
    {
      "cell_type": "code",
      "execution_count": null,
      "metadata": {
        "colab": {
          "base_uri": "https://localhost:8080/"
        },
        "id": "F4_6jFILpqsc",
        "outputId": "f48e1ea9-3b60-4e0c-de22-aa193f6066b1"
      },
      "outputs": [
        {
          "name": "stdout",
          "output_type": "stream",
          "text": [
            "BIENVENIDO!\n",
            "En que posicion crees que esta el numero 6?\n",
            "Ingresa una posicion valida: : 3\n",
            "El numero no esta en esa posicion, este es tu intento 1\n",
            "En que posicion crees que esta el numero 6?\n",
            "Ingresa una posicion valida: : 4\n",
            "Felicidades le atinaste a la posicion!\n",
            " 0 1 2 3 4 5 6 7 8 9 \n",
            " [10, 7, 8, 9, 6, 5, 4, 2, 1, 3]\n",
            "Quieres continuar?\n",
            "1- SI\n",
            "2- NO: 2\n",
            "GRACIAS POR JUGAR\n",
            "GANASTE 1 VECES\n",
            "PERDISTE 0 VECES\n"
          ]
        }
      ],
      "source": [
        "#JUEGO BUSCA NUMERO VERSION A\n",
        "lista=[]\n",
        "op=1\n",
        "g=0\n",
        "p=0\n",
        "while op!=2:\n",
        "    clear_output()\n",
        "    print(\"BIENVENIDO!\")\n",
        "    lista=lista_a()\n",
        "    posnum=random.randint(0,9)\n",
        "    num=lista[posnum]\n",
        "    i=0\n",
        "    while i!=3:\n",
        "        print(f\"En que posicion crees que esta el numero {num}?\")\n",
        "        pos=validar_num(\"Ingresa una posicion valida: \")\n",
        "        if lista[pos]==num:\n",
        "            print(\"Felicidades le atinaste a la posicion!\")\n",
        "            print(\" \",end=\"\")\n",
        "            for i in range(10):\n",
        "                print(f\"{i}\",end=\" \")\n",
        "            print(\"\\n\",lista)\n",
        "            g+=1\n",
        "            break\n",
        "        if lista[pos]!=posnum:\n",
        "            print(f\"El numero no esta en esa posicion, este es tu intento {i+1}\")\n",
        "            i+=1\n",
        "        if i==3:\n",
        "            print(\"Lo siento, se te acabaron los intentos PERDISTE\")\n",
        "            print(f\"El numero se encontraba en la posicion {posnum}\")\n",
        "            for i in range(10):\n",
        "                print(f\"{i}\",end=\" \")\n",
        "            print(\"\\n\",lista)\n",
        "            p+=1\n",
        "            break\n",
        "    print(\"Quieres continuar?\")\n",
        "    print(\"1- SI\")\n",
        "    op=validar_num(\"2- NO\")\n",
        "\n",
        "print(\"GRACIAS POR JUGAR\")\n",
        "print(f\"GANASTE {g} VECES\")\n",
        "print(f\"PERDISTE {p} VECES\")\n"
      ]
    },
    {
      "cell_type": "code",
      "execution_count": null,
      "metadata": {
        "colab": {
          "base_uri": "https://localhost:8080/"
        },
        "id": "p-YYxTVRvTkQ",
        "outputId": "dae9a0fe-f156-449d-c2a4-65c32d77d5dc"
      },
      "outputs": [
        {
          "name": "stdout",
          "output_type": "stream",
          "text": [
            "BIENVENIDO!\n",
            "En que posicion crees que esta el numero 1?\n",
            "Ingresa una posicion valida: : 3\n",
            "El numero no esta en esa posicion, este es tu intento 1\n",
            "En que posicion crees que esta el numero 1?\n",
            "Ingresa una posicion valida: : 5\n",
            "El numero no esta en esa posicion, este es tu intento 2\n",
            "En que posicion crees que esta el numero 1?\n",
            "Ingresa una posicion valida: : 2\n",
            "El numero no esta en esa posicion, este es tu intento 3\n",
            "Lo siento, se te acabaron los intentos PERDISTE\n",
            "El numero se encontraba en la posicion 1\n",
            "0 1 2 3 4 5 6 7 8 9 \n",
            " [3, 1, 4, 7, 8, 9, 6, 10, 2, 5]\n",
            "Quieres continuar?\n",
            "1- SI\n",
            "2- NO: 2\n",
            "GRACIAS POR JUGAR\n",
            "GANASTE 0 VECES\n",
            "PERDISTE 1 VECES\n"
          ]
        }
      ],
      "source": [
        "#JUEGO BUSCA NUMERO VERSION B\n",
        "lista=[]\n",
        "op=1\n",
        "g=0\n",
        "p=0\n",
        "while op!=2:\n",
        "    clear_output()\n",
        "    print(\"BIENVENIDO!\")\n",
        "    lista=lista_b()\n",
        "    posnum=random.randint(0,9)\n",
        "    num=lista[posnum]\n",
        "    i=0\n",
        "    while i!=3:\n",
        "        print(f\"En que posicion crees que esta el numero {num}?\")\n",
        "        pos=validar_num(\"Ingresa una posicion valida: \")\n",
        "        if lista[pos]==num:\n",
        "            print(\"Felicidades le atinaste a la posicion!\")\n",
        "            print(\" \",end=\"\")\n",
        "            for i in range(10):\n",
        "                print(f\"{i}\",end=\" \")\n",
        "            print(\"\\n\",lista)\n",
        "            g+=1\n",
        "            break\n",
        "        if lista[pos]!=posnum:\n",
        "            print(f\"El numero no esta en esa posicion, este es tu intento {i+1}\")\n",
        "            i+=1\n",
        "        if i==3:\n",
        "            print(\"Lo siento, se te acabaron los intentos PERDISTE\")\n",
        "            print(f\"El numero se encontraba en la posicion {posnum}\")\n",
        "            for i in range(10):\n",
        "                print(f\"{i}\",end=\" \")\n",
        "            print(\"\\n\",lista)\n",
        "            p+=1\n",
        "            break\n",
        "    print(\"Quieres continuar?\")\n",
        "    print(\"1- SI\")\n",
        "    op=validar_num(\"2- NO\")\n",
        "\n",
        "print(\"GRACIAS POR JUGAR\")\n",
        "print(f\"GANASTE {g} VECES\")\n",
        "print(f\"PERDISTE {p} VECES\")"
      ]
    },
    {
      "cell_type": "code",
      "execution_count": null,
      "metadata": {
        "colab": {
          "background_save": true
        },
        "id": "tCSJjUxWvUPD"
      },
      "outputs": [],
      "source": [
        "#JUEGO BUSCA NUMERO VERSION C\n",
        "lista=[]\n",
        "op=1\n",
        "g=0\n",
        "p=0\n",
        "while op!=2:\n",
        "    clear_output()\n",
        "    print(\"BIENVENIDO!\")\n",
        "    lista=lista_c()\n",
        "    posnum=random.randint(0,9)\n",
        "    num=lista[posnum]\n",
        "    i=0\n",
        "    while i!=3:\n",
        "        print(f\"En que posicion crees que esta el numero {num}?\")\n",
        "        pos=validar_num(\"Ingresa una posicion valida: \")\n",
        "        if lista[pos]==num:\n",
        "            print(\"Felicidades le atinaste a la posicion!\")\n",
        "            print(\" \",end=\"\")\n",
        "            for i in range(10):\n",
        "                print(f\"{i}\",end=\" \")\n",
        "            print(\"\\n\",lista)\n",
        "            g+=1\n",
        "            break\n",
        "        if lista[pos]!=posnum:\n",
        "            print(f\"El numero no esta en esa posicion, este es tu intento {i+1}\")\n",
        "            i+=1\n",
        "        if i==3:\n",
        "            print(\"Lo siento, se te acabaron los intentos PERDISTE\")\n",
        "            print(f\"El numero se encontraba en la posicion {posnum}\")\n",
        "            for i in range(10):\n",
        "                print(f\"{i}\",end=\" \")\n",
        "            print(\"\\n\",lista)\n",
        "            p+=1\n",
        "            break\n",
        "    print(\"Quieres continuar?\")\n",
        "    print(\"1- SI\")\n",
        "    op=validar_num(\"2- NO\")\n",
        "\n",
        "print(\"GRACIAS POR JUGAR\")\n",
        "print(f\"GANASTE {g} VECES\")\n",
        "print(f\"PERDISTE {p} VECES\")"
      ]
    }
  ],
  "metadata": {
    "colab": {
      "provenance": [],
      "authorship_tag": "ABX9TyOawipqtAIrLfwEOODqU6ec",
      "include_colab_link": true
    },
    "kernelspec": {
      "display_name": "Python 3",
      "name": "python3"
    },
    "language_info": {
      "name": "python"
    }
  },
  "nbformat": 4,
  "nbformat_minor": 0
}