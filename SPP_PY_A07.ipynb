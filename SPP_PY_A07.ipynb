{
  "nbformat": 4,
  "nbformat_minor": 0,
  "metadata": {
    "colab": {
      "provenance": [],
      "authorship_tag": "ABX9TyM9/0xEIlKs1jdqEUBKI+y5",
      "include_colab_link": true
    },
    "kernelspec": {
      "name": "python3",
      "display_name": "Python 3"
    },
    "language_info": {
      "name": "python"
    }
  },
  "cells": [
    {
      "cell_type": "markdown",
      "metadata": {
        "id": "view-in-github",
        "colab_type": "text"
      },
      "source": [
        "<a href=\"https://colab.research.google.com/github/Samanthing/PYTHON/blob/main/SPP_PY_A07.ipynb\" target=\"_parent\"><img src=\"https://colab.research.google.com/assets/colab-badge.svg\" alt=\"Open In Colab\"/></a>"
      ]
    },
    {
      "cell_type": "markdown",
      "source": [
        "#ACTIVIDAD 7 - SAMANTHA PEREZ 00368933\n",
        "\n"
      ],
      "metadata": {
        "id": "Yjczxt8kOezI"
      }
    },
    {
      "cell_type": "code",
      "source": [
        "#FUNCION PARA VALIDAR UN NUMERO\n",
        "def validar_num(msge,msgeError=\"ERROR: Debes ingresar un numero\"):\n",
        "    while True:\n",
        "        try:\n",
        "            num = int(input(f\"{msge}: \"))\n",
        "        except:\n",
        "            print (msgeError)\n",
        "            continue\n",
        "        else:\n",
        "            break\n",
        "    return num"
      ],
      "metadata": {
        "id": "t7mMva0aMXj1"
      },
      "execution_count": null,
      "outputs": []
    },
    {
      "cell_type": "markdown",
      "source": [
        "## 1.- Función que utilice una lista con los nombres de tus mascotas, o artistas favoritos, (minimo 5, maximo 10) imprimir las cadenas y la cantidad de caracteres de cada cadena.  "
      ],
      "metadata": {
        "id": "kxeZZfUvQCOO"
      }
    },
    {
      "cell_type": "code",
      "execution_count": null,
      "metadata": {
        "id": "XeEg1XrjDpO_"
      },
      "outputs": [],
      "source": [
        "def lista():\n",
        "    print(\"Lista de Artistas Favoritos de Samantha: \")\n",
        "    lista = [\"TWENTY ONE PILOTS\", \"BAD BUNNY\", \"THE WEEKND\", \"MORAT\", \"SEBASTIAN YATRA\", \"MELANIE MARTINEZ\",\"DOJA CAT\" ]\n",
        "    for i,cadena in enumerate(lista):\n",
        "        print(f\"{(i+1)}: {cadena} -- TIENE {len(cadena)} CARACTERES\")\n",
        "\n",
        "    print(len(lista))\n",
        "\n",
        "lista()"
      ]
    },
    {
      "cell_type": "markdown",
      "source": [
        "## 2.- Programa que utilice 2 funciones, Función que genere y regrese una lista con 10 números aleatorios entre el 30 y 50 (no repetidos). Función que reciba una lista , Imprimir la lista (Indice y Valor )"
      ],
      "metadata": {
        "id": "uW_k4JY0TKJo"
      }
    },
    {
      "cell_type": "code",
      "source": [
        "from IPython.display import clear_output\n",
        "import random\n",
        "\n",
        "def aleatorio():\n",
        "    lista=[]\n",
        "    while len(lista)<10:\n",
        "        num=random.randint(30,51)\n",
        "        if num not in lista:\n",
        "            lista.append(num)\n",
        "    i=0\n",
        "    for cadena in lista:\n",
        "        print(f\"{(i+1)}.- {cadena}\")\n",
        "        i=i+1\n",
        "    input(\"Presiona enter para continuar\")\n",
        "    global op\n",
        "    op=0\n",
        "\n",
        "def lista():\n",
        "    lista=[]\n",
        "    opc=1\n",
        "    while opc!=2:\n",
        "        clear_output()\n",
        "        print(\"Quieres agregar algo a tu lista?\")\n",
        "        print(\"1.- SI\")\n",
        "        opc=int(input(\"2.- NO \"))\n",
        "        if opc==2:\n",
        "            break\n",
        "        add=validar_num(\"Ingresa lo que quieras agregar \")\n",
        "        lista.append(add)\n",
        "    i=0\n",
        "    print(\"Esta es tu lista: \")\n",
        "    for cadena in lista:\n",
        "        print(f\"{(i+1)}.- {cadena}\")\n",
        "        i=i+1\n",
        "    input(\"Presiona enter para continuar\")\n",
        "    global op\n",
        "    op=0\n",
        "\n",
        "while True:\n",
        "    clear_output()\n",
        "    print(\" M E N U\")\n",
        "    print(\"1. Aleatorios\")\n",
        "    print(\"2. Lista\")\n",
        "    print(\"3. Salir\")\n",
        "    op=validar_num(\"Que opcion eliges? \")\n",
        "    if op==1:\n",
        "        clear_output()\n",
        "        aleatorio()\n",
        "    elif op==2:\n",
        "        clear_output()\n",
        "        lista() \n",
        "    elif op==3:\n",
        "        break\n",
        "    else:\n",
        "        print(\"Opcion invalida, intente de nuevo\")\n",
        "        continue"
      ],
      "metadata": {
        "id": "XftH6YYnen9N"
      },
      "execution_count": null,
      "outputs": []
    },
    {
      "cell_type": "markdown",
      "source": [
        "## 3.- Escribe una función que reciba dos listas de números del mismo tamaño y calcule la suma de los elementos correspondientes de cada lista. (regresar una nueva lista) . Luego, muestra una lista con los resultados de cada suma. Nota: si las listas no son del mismo tamaño mandar msge y utilizar el tamaño de la lista mas pequeña)"
      ],
      "metadata": {
        "id": "KnmSRXMefZgm"
      }
    },
    {
      "cell_type": "code",
      "source": [
        "from IPython.display import clear_output\n",
        "def sumlist(list1,list2):\n",
        "    list1=[]\n",
        "    list2=[]\n",
        "    tam1=validar_num(\"Ingresa el tamaño de tu primer lista:\")\n",
        "    for i in range(tam1):\n",
        "        num=validar_num(f\"Ingresa el elemento {i+1} a tu lista: \")\n",
        "        list1.append(num)\n",
        "        clear_output()\n",
        "    tam2=validar_num(\"Ingresa el tamaño de tu segunda lista: \")\n",
        "    for i in range(tam2):\n",
        "        num=validar_num(f\"Ingresa el elemento {i+1} a tu lista: \")\n",
        "        list2.append(num)\n",
        "    if (tam1!=tam2):\n",
        "        print(\"Las listas son de diferente tamaño, se utilizará la lista mas pequeña\")\n",
        "        tam=min(len(list1),len(list2))\n",
        "    else:\n",
        "        tam=len(list1)\n",
        "    sumalistas=[]\n",
        "    for i in range(tam):\n",
        "        suma=list1[i]+list2[i]\n",
        "        sumalistas.append(suma)\n",
        "    clear_output()\n",
        "    print(f\"LISTA 1: {list1}\")\n",
        "    print(f\"LISTA 2: {list2}\")\n",
        "    print(f\"La suma de las listas es igual a: {sumalistas}\")\n",
        "list1=[]\n",
        "list2=[]\n",
        "\n",
        "sumlist(list1,list2)"
      ],
      "metadata": {
        "id": "oRuTeslqfeGY"
      },
      "execution_count": null,
      "outputs": []
    },
    {
      "cell_type": "markdown",
      "source": [
        "## 4.- Escribe una función llamada eliminar_duplicados que reciba una lista como parámetro y elimine los elementos duplicados. El resultado debe ser una nueva lista sin duplicados. Pide al usuario que ingrese una lista y luego llama a la función eliminar_duplicados para mostrar la lista sin duplicados. (Solo Numeros enteros, validar)\n",
        "\n",
        "\n",
        "\n"
      ],
      "metadata": {
        "id": "fHKyZhYUkXfK"
      }
    },
    {
      "cell_type": "code",
      "source": [
        "def elimdups(lista):\n",
        "    lista=[]\n",
        "    tam=validar_num(\"Ingresa el tamaño de tu lista\")\n",
        "    for i in range(tam):\n",
        "        num=validar_num(f\"Ingresa el elemento {i+1} a tu lista: \")\n",
        "        lista.append(num)\n",
        "    nuevalista=[]\n",
        "    for elemento in lista:\n",
        "        if elemento not in nuevalista:\n",
        "            nuevalista.append(elemento)\n",
        "    print(f\"Su lista es: {lista}\")    \n",
        "    print(f\"La nueva lista (sin duplicados) es: {nuevalista}\")\n",
        "\n",
        "elimdups(lista)"
      ],
      "metadata": {
        "id": "CL_ejDCZkajw"
      },
      "execution_count": null,
      "outputs": []
    },
    {
      "cell_type": "markdown",
      "source": [
        "## 5.- Escribe una función que calcule la media y la mediana de una lista de números enteros. La media es la suma de todos los elementos y dividido entre la cantidad de elementos La mediana es el valor que queda en la mitad de la lista cuando se ordena de forma ascendente. Si la lista tiene un número par de elementos, la mediana se calcula como el promedio de los dos valores centrales. Puedes utilizar el método sort() para ordenar la lista y luego calcular la mediana según el tamaño de la lista.\n",
        "\n"
      ],
      "metadata": {
        "id": "m394FhITkbbV"
      }
    },
    {
      "cell_type": "code",
      "source": [
        "def medmed(lista):\n",
        "    lista=[]\n",
        "    tam=validar_num(\"Ingresa el tamaño de tu lista: \")\n",
        "    for i in range(tam):\n",
        "        num=validar_num(f\"Ingresa el elemento {i+1} a tu lista: \")\n",
        "        lista.append(num)\n",
        "    tam=len(lista)\n",
        "    listord=sorted(lista)\n",
        "    media=sum(lista)/tam\n",
        "\n",
        "    if tam%2==0:\n",
        "        mediana=(listord(tam//2-1)+listord(tam//2)/2)\n",
        "    else:\n",
        "        mediana=listord[tam//2]\n",
        "    clear_output()\n",
        "    print(f\"La media de la lista es: {media}\")\n",
        "    print(f\"La mediana de la lista es: {mediana}\")\n",
        "\n",
        "medmed(lista)"
      ],
      "metadata": {
        "id": "Omh7XNx2kf-6"
      },
      "execution_count": null,
      "outputs": []
    },
    {
      "cell_type": "markdown",
      "source": [
        "## 6.- Escribe una función que calcule la media móvil de una lista de números enteros. La media móvil es el promedio de un número determinado de elementos consecutivos de la lista. Puedes utilizar unciclo y una variable de suma para calcular la media móvil de cada sublista y guardar los resultados en otra lista."
      ],
      "metadata": {
        "id": "lg3CgIFfkhQ4"
      }
    },
    {
      "cell_type": "code",
      "source": [
        "def mediamovil(lista,n):\n",
        "    lista=[]\n",
        "    tam=validar_num(\"Ingresa el tamaño de tu lista:\")\n",
        "    for i in range(tam):\n",
        "        num=validar_num(f\"Ingresa el elemento {i+1} de tu lista (entero): \")\n",
        "        lista.append(num)\n",
        "    n=validar_num(\"Ingresa el numero de elementos de los que quieres la media movil: \")\n",
        "    listameds=[]\n",
        "    for i in range(len(lista)-n+1):\n",
        "        sum=0\n",
        "        print(f\"Sublista {i+1}: {lista[i:i+n]}\")\n",
        "        suma=sum(lista[i:i+n: ])\n",
        "        print(f\"La media movil de la sublista {i+1} es: {suma/n}\")\n",
        "        listameds.append(suma/n)\n",
        "    return listameds\n",
        "    print(f\"Lista de media movil: {listameds}\")\n",
        "\n",
        "mediamovil(lista,n)"
      ],
      "metadata": {
        "id": "SlJarVMwkg5o"
      },
      "execution_count": null,
      "outputs": []
    }
  ]
}