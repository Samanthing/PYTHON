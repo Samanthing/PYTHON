{
  "cells": [
    {
      "cell_type": "markdown",
      "metadata": {
        "id": "view-in-github",
        "colab_type": "text"
      },
      "source": [
        "<a href=\"https://colab.research.google.com/github/Samanthing/PYTHON/blob/main/SPP_PY_A06.ipynb\" target=\"_parent\"><img src=\"https://colab.research.google.com/assets/colab-badge.svg\" alt=\"Open In Colab\"/></a>"
      ]
    },
    {
      "cell_type": "markdown",
      "metadata": {
        "id": "vJ0xEFm50jsU"
      },
      "source": [
        "# ACTIVIDAD 6 - SAMANTHA PEREZ 00368933"
      ]
    },
    {
      "cell_type": "code",
      "execution_count": 2,
      "metadata": {
        "id": "8kKvRcpDzBfb"
      },
      "outputs": [],
      "source": [
        "#Importa la funcion RANDOM para generar numeros aleatorios\n",
        "import random\n",
        "from IPython.display import clear_output"
      ]
    },
    {
      "cell_type": "code",
      "source": [
        "#FUNCION QUE VALIDA UN NUMERO\n",
        "def validar_num(msge,ri=0,rf=100,msgError1=\"NUMERO FUERA DEL RANGO\",msgError2=\"INGRESA UN VALOR NUMERICO\"):\n",
        "    while True:\n",
        "        try:\n",
        "            num = int(input(f\"{msge}: \"))\n",
        "        except:\n",
        "            print (msgError2)\n",
        "            continue\n",
        "        if num < ri or num > rf:\n",
        "            print(f\"{msgError1} ({ri} a {rf})\")\n",
        "            continue\n",
        "        else:\n",
        "            break\n",
        "    return num"
      ],
      "metadata": {
        "id": "KaFlGKahlNuj"
      },
      "execution_count": 3,
      "outputs": []
    },
    {
      "cell_type": "code",
      "execution_count": 4,
      "metadata": {
        "id": "TZrzBFSP1SOD"
      },
      "outputs": [],
      "source": [
        "#1.-FUNCIÓN QUE LEA n CANTIDAD DE NÚMEROS HASTA QUE EL USUARIO LO DESEE, DESPLEGAR LA SUMA DE LOS NÚMEROS, MEDIA Y VALOR DE LOS NÚMEROS MAYORES Y MENORES.\n",
        "def medmaymen(numeros):\n",
        "    try:\n",
        "        sumanums=0\n",
        "        mayor=0\n",
        "        menor=99999\n",
        "        for i in range(numeros):\n",
        "            num= int(input(f\"Ingresa un numero: \"))\n",
        "            sumanums+=num\n",
        "            if num>mayor:\n",
        "                mayor=num\n",
        "            if num<menor:\n",
        "                menor=num\n",
        "        print(f\"La suma de los numeros es de: {sumanums}\")\n",
        "        print(f\"La media de los numeros es de: {sumanums/(i+1)}\")\n",
        "        print(f\"El numero mayor es: {mayor}\")\n",
        "        print(f\"El numero menor es: {menor}\")\n",
        "    except:\n",
        "        print(\"Error: Ingresa un NUMERO\")"
      ]
    },
    {
      "cell_type": "code",
      "execution_count": 5,
      "metadata": {
        "id": "iN5Ybzyc1XlR"
      },
      "outputs": [],
      "source": [
        "#2.-FUNCIÓN QUE GENERE 15 NÚMEROS IMPARES ENTRE 10 Y 60 o MÁXIMO DE 25 NÚMEROS. DESPLEGAR LA MEDIA DE LOS PARES Y MEDIA DE IMPARES.\n",
        "def nums():\n",
        "    try:\n",
        "        i=0\n",
        "        par=1\n",
        "        sumpar=0\n",
        "        impar=1\n",
        "        sumimpar=0\n",
        "        while impar<=15 and i<25:\n",
        "            num=random.randint(10,61)\n",
        "            print(f\"{i+1}: {num} \",end= \" \")\n",
        "            if num%2 == 0:\n",
        "                print(\"PAR\")\n",
        "                par+=1\n",
        "                sumpar+=num\n",
        "            else:\n",
        "                print(\"IMPAR\")\n",
        "                impar+=1\n",
        "                sumimpar+=num\n",
        "            i+=1\n",
        "        print(f\"La media de los numeros pares es igual a: {sumpar/par}\")\n",
        "        print(f\"La media de los numeros impares es igual a: {sumimpar/impar}\")\n",
        "    except:\n",
        "        print(\"Error: Ingresa un NUMERO\")"
      ]
    },
    {
      "cell_type": "code",
      "execution_count": 6,
      "metadata": {
        "id": "rc6ZmGZR15Lb"
      },
      "outputs": [],
      "source": [
        "#3.-FUNCIÓN QUE SIRVA PARA LEER UN RANGO DADO POR EL USUARIO. REPETIR ESTA ACCIÓN HASTA QUE EL USUARIO LO DESEE, DESPLEGAR CANTIDAD DE NUMEROS Y PROMEDIO DE LOS NUMEROS..\n",
        "def validar(ri,rf,msgError=\"Ese numero NO esta en el rango\"):\n",
        "    try:\n",
        "        sumanum=0\n",
        "        nums=0\n",
        "        while True:\n",
        "            try:\n",
        "                num=int(input(f\"Ingresa un numero entre el rango {ri} y {rf}: \"))\n",
        "            except:\n",
        "                print(msgError)\n",
        "                continue\n",
        "            else: \n",
        "                nums+=1\n",
        "                sumanum+=num\n",
        "            if num<ri or num>rf:\n",
        "                print(msgError)\n",
        "                continue\n",
        "            else:\n",
        "                print(\"Ese numero SI esta en el rango \")\n",
        "                break\n",
        "        print(f\"La cantidad de numeros es: {nums}\")\n",
        "        print(f\"El promedio de los numeros es de: {sumanum/nums}\")\n",
        "    except:\n",
        "        print(\"Error: debes ingresar un NUMERO\")"
      ]
    },
    {
      "cell_type": "code",
      "execution_count": 7,
      "metadata": {
        "id": "B9g_Gkrk18_i"
      },
      "outputs": [],
      "source": [
        "#4.-FUNCIÓN QUE RECIBA COMO PARÁMETRO LOS VALORES PARA EL ÁREA DE UN TRIANGULO Y RETORNE SU RESULTADO\n",
        "def area(base,altura):\n",
        "    try:\n",
        "        area = (base *  altura) / 2\n",
        "        print(f\"El area del triangulo es: {area}\")\n",
        "    except:\n",
        "        print(\"Error: Los datos deben ser NUMEROS\")"
      ]
    },
    {
      "cell_type": "code",
      "execution_count": 8,
      "metadata": {
        "id": "fR2y1LdR2BCc"
      },
      "outputs": [],
      "source": [
        "#5.-FUNCION QUE SIRVA QUE SIRVA PARA EVALUAR EL PROMEDIO DE 3 CALIFICACIONES DADAS, SI EL USUARIO SU CALIFICACION ES APROBADA MANDAR MSGE QUE DIGA \"felicidades avanzas al siguiente semestre\", SI LA CALIFICACIONE ESTA REPROBADA EL MENSAGE \"repetir materia \" EL ALUMNO TENDRA UN MAXIMO DE CURSAR 3 VESES LA MATERIA, SI LA REPRUEBA 3 VESES MANDAR MSGE \" lastima estas fuera de la UABC\"\n",
        "def promedio():\n",
        "    sumacal = 0\n",
        "    repetir = 0\n",
        "    while True:\n",
        "        try:\n",
        "            for i in range(3):\n",
        "                msge = f\"Ingresa la calificacion {i+1}\"\n",
        "                calf = validar_num(msge)\n",
        "                sumacalf+=calf\n",
        "\n",
        "            prom=sumacalf/3\n",
        "            if calf<0 or calf>100:\n",
        "                raise ValueError(\"La calificacion debe estar entre 0 y 100.\")\n",
        "        except ValueError as e:\n",
        "            print(\"Error:\", e)\n",
        "        else:\n",
        "            print(f\"Tu promedio es: {prom}\")\n",
        "            if repetir==3:\n",
        "                print(\"BAJA ACADEMICA\")\n",
        "                break\n",
        "            if prom>=60:\n",
        "                print(\"Felicidades! , continua con el siguiente semestre\")\n",
        "                break\n",
        "            else:\n",
        "                print(\"Reprobaste, repetir materia\")\n",
        "                repetir+=1\n",
        "                sumacalf = 0\n",
        "                continue"
      ]
    },
    {
      "cell_type": "code",
      "execution_count": null,
      "metadata": {
        "id": "8p-VCUH8Bk3E"
      },
      "outputs": [],
      "source": [
        "#Bloque de codigo main donde se mandan a llamar las funciones\n",
        "print(\" M E N U\")\n",
        "print(\"1-. Numeros\")\n",
        "print(\"2.- Pares e Impares\")\n",
        "print(\"3.- Validar Numero\")\n",
        "print(\"4.- Area Triangulo\")\n",
        "print(\"5.- Promedio\")\n",
        "print(\"6.- Salir\")\n",
        "op=int(input(\"Que opcion eliges? \"))\n",
        "while True:\n",
        "    if op==1:\n",
        "        msge=\"Cuantos numeros quieres ingresar?\"\n",
        "        numeros=validar_num(msge)\n",
        "        medmaymen(numeros)\n",
        "        input(\"Presiona enter para borrar pantalla\")\n",
        "        clear_output()\n",
        "        continue\n",
        "    elif op==2:\n",
        "        nums()\n",
        "        input(\"Presiona enter para borrar pantalla\")\n",
        "        clear_output()\n",
        "        continue\n",
        "    elif op==3:\n",
        "        msge= \"Ingresa el rango inicial:\"\n",
        "        ri= validar_num(msge)\n",
        "        msge= \"Ingresa el rango final: \"\n",
        "        rf= validar_num(msge)\n",
        "        validar(ri,rf)\n",
        "        input(\"Presiona enter para borrar pantalla\")\n",
        "        clear_output()\n",
        "        continue\n",
        "    elif op==4:\n",
        "        msge = \"Ingresa la base del triangulo\"\n",
        "        base = validar_num(msge)\n",
        "        msge = \"Ingresa la altura del triangulo\"\n",
        "        altura = validar_num(msge)\n",
        "        area(base,altura)\n",
        "        input(\"Presiona enter para borrar pantalla\")\n",
        "        clear_output()\n",
        "        continue\n",
        "    elif op==5:\n",
        "        promedio()\n",
        "        input(\"Presiona enter para borrar pantalla\")\n",
        "        clear_output()\n",
        "        continue\n",
        "    elif op==6:\n",
        "        break\n"
      ]
    }
  ],
  "metadata": {
    "colab": {
      "provenance": [],
      "authorship_tag": "ABX9TyMQjs5RW2I8o+chxOz49apW",
      "include_colab_link": true
    },
    "kernelspec": {
      "display_name": "Python 3",
      "name": "python3"
    },
    "language_info": {
      "name": "python"
    }
  },
  "nbformat": 4,
  "nbformat_minor": 0
}