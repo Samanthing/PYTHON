{
  "nbformat": 4,
  "nbformat_minor": 0,
  "metadata": {
    "colab": {
      "provenance": [],
      "authorship_tag": "ABX9TyPF0t4HVNmMmbV2SqcxlK1E",
      "include_colab_link": true
    },
    "kernelspec": {
      "name": "python3",
      "display_name": "Python 3"
    },
    "language_info": {
      "name": "python"
    }
  },
  "cells": [
    {
      "cell_type": "markdown",
      "metadata": {
        "id": "view-in-github",
        "colab_type": "text"
      },
      "source": [
        "<a href=\"https://colab.research.google.com/github/Samanthing/PYTHON/blob/main/SPP_PY_A05.ipynb\" target=\"_parent\"><img src=\"https://colab.research.google.com/assets/colab-badge.svg\" alt=\"Open In Colab\"/></a>"
      ]
    },
    {
      "cell_type": "markdown",
      "source": [
        "# **ACTIVIDAD 4 - Samantha Perez 00368933**\n"
      ],
      "metadata": {
        "id": "06DOGyCoBu7U"
      }
    },
    {
      "cell_type": "markdown",
      "source": [
        "## 1.- Programa en Python que genere 40 números aleatorios entre el 0 y 200, desplegar los números y la leyenda de cada número si es par o impar , la cantidad de los números pares e impares así como la suma de los números pares o impares."
      ],
      "metadata": {
        "id": "uBBgtordB1TF"
      }
    },
    {
      "cell_type": "code",
      "execution_count": null,
      "metadata": {
        "id": "hHdAJ08FBOHz"
      },
      "outputs": [],
      "source": [
        "par=0\n",
        "impar=0\n",
        "sumpar=0\n",
        "sumimpar=0\n",
        "import random\n",
        "for i in range(1,41):\n",
        "    num=random.randint(0,200)\n",
        "    print(f\"{i}- {num}\",end=\" \")\n",
        "    if((num%2)==0):\n",
        "        print(\"PAR\") \n",
        "        par+=1\n",
        "        sumpar+=num   \n",
        "    else:\n",
        "        print(\"IMPAR\")\n",
        "        impar+=1\n",
        "        sumimpar+=num\n",
        "print(f\"El numero de pares es de: {par}\")\n",
        "print(f\"La suma de los pares es de: {sumpar}\")\n",
        "print(f\"El numero de impares es de: {impar}\")\n",
        "print(f\"La suma de los impares es de: {sumimpar}\")\n"
      ]
    },
    {
      "cell_type": "markdown",
      "source": [
        "## 2.- Programa en Python que despliegue la tabla de multiplicar de un número dado (número entre el 1 y 20).\n",
        "\n",
        "\n",
        "\n",
        "Tabla del 5\n",
        "\n",
        "5 * 1 = 5\n",
        "\n",
        "5* 2 = 10\n",
        "\n",
        ".\n",
        "\n",
        "5*10=50"
      ],
      "metadata": {
        "id": "vIZpQ0a8GNO7"
      }
    },
    {
      "cell_type": "code",
      "source": [
        "try:\n",
        "    num=int(input(\"Ingresa el numero del que quieres la tabla de multiplicar: \"))\n",
        "    if num>20 or num<0:\n",
        "        raise ValueError(\"El número debe estar entre 0 y 20.\")\n",
        "    for i in range(1,11):\n",
        "        multi=num*i\n",
        "        print(f\"{num} x {i} = {multi}\")\n",
        "except ValueError as e:\n",
        "    print(\"Error:\", e)"
      ],
      "metadata": {
        "id": "XKApIbl0JbQi"
      },
      "execution_count": null,
      "outputs": []
    },
    {
      "cell_type": "markdown",
      "source": [
        "## 3.- Programa en Python que lea una calificación, las calificación deberá estar en el rango de 0 a 100, si hay un error de captura, mostrar mensaje de error. con la calificación correcta mostrar msg de aprobado reprobado. "
      ],
      "metadata": {
        "id": "OWSA_F99MrGB"
      }
    },
    {
      "cell_type": "code",
      "source": [
        "try:\n",
        "    calf=float(input(\"Ingresa la calificacion: \"))\n",
        "    if calf<0 or calf>100:\n",
        "        raise ValueError(\"la calificacion debe estar entre 0 y 100\")\n",
        "except ValueError as e:\n",
        "    print(\"Error: \",e)\n",
        "else:\n",
        "    if(calf<60):\n",
        "        print(\"REPROBADO\")\n",
        "    else: \n",
        "        print(\"APROBADO\")"
      ],
      "metadata": {
        "id": "EEwL61MWMvVe"
      },
      "execution_count": null,
      "outputs": []
    },
    {
      "cell_type": "markdown",
      "source": [
        "## 4.- Programa en Python que lea n cantidad de números enteros dentro de un rango dado (> 0 ) , el programa deberá terminar cuando el usuario introduzca el número cero. Desplegar la suma de números y la media.\n",
        "\n"
      ],
      "metadata": {
        "id": "RKtDdG9tN9H7"
      }
    },
    {
      "cell_type": "code",
      "source": [
        "num = int(input(\"Ingresa un numero entero: \"))\n",
        "suma=num\n",
        "cant=0\n",
        "while num!=0:\n",
        "    num = int(input(\"Ingresa otro numero entero: \"))\n",
        "    suma=suma+num\n",
        "    cant+=1\n",
        "    if num==0:\n",
        "        print(f\"La suma de los numeros es de: {suma}\")\n",
        "        print(f\"La media de los numeros es de: {suma/cant}\")\n",
        "\n",
        "    \n",
        "    \n"
      ],
      "metadata": {
        "id": "2qSou79XOAQe",
        "colab": {
          "base_uri": "https://localhost:8080/"
        },
        "outputId": "f69149a9-900d-4271-c814-6246e879d1e9"
      },
      "execution_count": null,
      "outputs": [
        {
          "output_type": "stream",
          "name": "stdout",
          "text": [
            "Ingresa un numero entero: 10\n",
            "Ingresa otro numero entero: 30\n",
            "Ingresa otro numero entero: 0\n",
            "La suma de los numeros es de: 40\n",
            "La media de los numeros es de: 20.0\n"
          ]
        }
      ]
    },
    {
      "cell_type": "markdown",
      "source": [
        "## 5.- Programa en Python que sirva para leer el promedio de una materia. donde el usuario tendrá un máximo de 3 oportunidades de cursar la materia, si el promedio es aprobado, felicitarlo y continuar el siguiente semestre, si promedio es reprobado deberá salir mensaje de repetir materia o es baja académica si ha reprobado 3 veces. "
      ],
      "metadata": {
        "id": "ZS1rIDVKOpp2"
      }
    },
    {
      "cell_type": "code",
      "source": [
        "try:\n",
        "    reprobado=0\n",
        "    aprobado=0\n",
        "    while reprobado<3:\n",
        "        prom=int(input(\"Ingresa el promedio de esta materia: \")) \n",
        "        if prom>60:\n",
        "            print(\"Felicidades, aprobaste!\")\n",
        "            aprobado+=1\n",
        "        else: \n",
        "            print(\"Reprobaste.. REPETIR MATERIA\")\n",
        "            reprobado+=1\n",
        "        if aprobado==3:\n",
        "            break \n",
        "        if reprobado==3:\n",
        "            print(\"REPROBASTE 3 VECES, BAJA ACADEMICA\")\n",
        "except:\n",
        "    print(\"Error: Ingresa la calificacion con NUMEROS\")\n",
        "\n",
        "        \n"
      ],
      "metadata": {
        "id": "SgCkvVGeOp7x",
        "colab": {
          "base_uri": "https://localhost:8080/"
        },
        "outputId": "e64c0ed8-a3af-46bc-f56d-26a87b92b0c6"
      },
      "execution_count": null,
      "outputs": [
        {
          "output_type": "stream",
          "name": "stdout",
          "text": [
            "Ingresa el promedio de esta materia: diez\n",
            "Error: Ingresa la calificacion con NUMEROS\n"
          ]
        }
      ]
    },
    {
      "cell_type": "markdown",
      "source": [
        "# **PARTE 2**"
      ],
      "metadata": {
        "id": "P0PbSQdnOx11"
      }
    },
    {
      "cell_type": "code",
      "source": [
        "import random"
      ],
      "metadata": {
        "id": "mPH0RFg-yFmo"
      },
      "execution_count": 16,
      "outputs": []
    },
    {
      "cell_type": "markdown",
      "source": [
        "## 1.- función que lea n cantidad de números hasta que el usuario lo desee, desplegar la suma de los números, media y valor de los números mayores y menores."
      ],
      "metadata": {
        "id": "jAjZddmZOrAM"
      }
    },
    {
      "cell_type": "code",
      "source": [
        "def medmaymen(numeros):\n",
        "    sumanums=0\n",
        "    mayor=0\n",
        "    menor=99999\n",
        "    for i in range(numeros):\n",
        "        num= int(input(f\"Ingresa un numero: \"))\n",
        "        sumanums+=num\n",
        "        if num>mayor:\n",
        "            mayor=num\n",
        "        if num<menor:\n",
        "            menor=num\n",
        "    print(f\"La suma de los numeros es de: {sumanums}\")\n",
        "    print(f\"La media de los numeros es de: {sumanums/(i+1)}\")\n",
        "    print(f\"El numero mayor es: {mayor}\")\n",
        "    print(f\"El numero menor es: {menor}\")\n",
        "\n",
        "numeros = int(input(\"Cuantos numeros quieres ingresar? \\n\"))\n",
        "medmaymen(numeros)\n"
      ],
      "metadata": {
        "id": "X2Mo99bOOrLn",
        "colab": {
          "base_uri": "https://localhost:8080/"
        },
        "outputId": "91e9c70b-7f5a-499e-935f-9c71c9445e83"
      },
      "execution_count": null,
      "outputs": [
        {
          "output_type": "stream",
          "name": "stdout",
          "text": [
            "Cuantos numeros quieres ingresar? \n",
            "3\n",
            "Ingresa un numero: 10\n",
            "Ingresa un numero: 7\n",
            "Ingresa un numero: 2\n",
            "La suma de los numeros es de: 19\n",
            "La media de los numeros es de: 6.333333333333333\n",
            "El numero mayor es: 10\n",
            "El numero menor es: 2\n"
          ]
        }
      ]
    },
    {
      "cell_type": "markdown",
      "source": [
        "## 2.- función que genere 15 números impares entre 10 y 60 o máximo de 25 números. desplegar la media de los pares y media de impares."
      ],
      "metadata": {
        "id": "KSaYRkShOrWm"
      }
    },
    {
      "cell_type": "code",
      "source": [
        "def numeros():\n",
        "    i=0\n",
        "    par=1\n",
        "    sumpar=0\n",
        "    impar=1\n",
        "    sumimpar=0\n",
        "    while impar<=15 and i<25:\n",
        "        num=random.randint(10,61)\n",
        "        print(f\"{i+1}: {num} \",end= \" \")\n",
        "        if num%2 == 0:\n",
        "            print(\"PAR\")\n",
        "            par+=1\n",
        "            sumpar+=num\n",
        "        else:\n",
        "            print(\"IMPAR\")\n",
        "            impar+=1\n",
        "            sumimpar+=num\n",
        "        i+=1\n",
        "    print(f\"La media de los numeros pares es igual a: {sumpar/par}\")\n",
        "    print(f\"La media de los numeros impares es igual a: {sumimpar/impar}\")\n",
        "\n",
        "numeros()\n",
        "    \n"
      ],
      "metadata": {
        "id": "fYc72oLtOrf3",
        "colab": {
          "base_uri": "https://localhost:8080/"
        },
        "outputId": "70e1d88f-455a-410a-d3f4-feb377223641"
      },
      "execution_count": 19,
      "outputs": [
        {
          "output_type": "stream",
          "name": "stdout",
          "text": [
            "1: 17  IMPAR\n",
            "2: 24  PAR\n",
            "3: 46  PAR\n",
            "4: 33  IMPAR\n",
            "5: 16  PAR\n",
            "6: 39  IMPAR\n",
            "7: 49  IMPAR\n",
            "8: 30  PAR\n",
            "9: 41  IMPAR\n",
            "10: 19  IMPAR\n",
            "11: 48  PAR\n",
            "12: 54  PAR\n",
            "13: 59  IMPAR\n",
            "14: 18  PAR\n",
            "15: 44  PAR\n",
            "16: 37  IMPAR\n",
            "17: 36  PAR\n",
            "18: 61  IMPAR\n",
            "19: 46  PAR\n",
            "20: 27  IMPAR\n",
            "21: 26  PAR\n",
            "22: 24  PAR\n",
            "23: 24  PAR\n",
            "24: 42  PAR\n",
            "25: 25  IMPAR\n",
            "La media de los numeros pares es igual a: 31.866666666666667\n",
            "La media de los numeros impares es igual a: 33.916666666666664\n"
          ]
        }
      ]
    },
    {
      "cell_type": "markdown",
      "source": [
        "## 3.- función que sirva para leer y validar un número dentro de un rango dado por el usuario. repetir esta acción hasta que el usuario lo desee, desplegar cantidad de números y promedio de los números.."
      ],
      "metadata": {
        "id": "gvas4YGNOroe"
      }
    },
    {
      "cell_type": "code",
      "source": [
        "def validar(ri,rf,msgError=\"Ese numero NO esta en el rango\"):\n",
        "    sumanum=0\n",
        "    nums=0\n",
        "    while True:\n",
        "        try:\n",
        "            num=int(input(f\"Ingresa un numero entre el rango {ri} y {rf}: \"))\n",
        "        except:\n",
        "            print(msgError)\n",
        "            continue\n",
        "        else: \n",
        "            nums+=1\n",
        "            sumanum+=num\n",
        "        if num<ri or num>rf:\n",
        "            print(msgError)\n",
        "            continue\n",
        "        else:\n",
        "            print(\"Ese numero SI esta en el rango \")\n",
        "            break\n",
        "    print(f\"La cantidad de numeros es: {nums}\")\n",
        "    print(f\"El promedio de los numeros es de: {sumanum/nums}\")\n",
        "\n",
        "ri=int(input(\"Ingresa el rango inicial que deseas: \"))\n",
        "rf=int(input(\"Ingresa el rango final que deseas: \"))\n",
        "validar(ri,rf)\n"
      ],
      "metadata": {
        "id": "mhaTq69nOryH",
        "colab": {
          "base_uri": "https://localhost:8080/"
        },
        "outputId": "bed274a9-eee4-4876-87fe-e68ec916d8ae"
      },
      "execution_count": null,
      "outputs": [
        {
          "output_type": "stream",
          "name": "stdout",
          "text": [
            "Ingresa el rango inicial que deseas: 30\n",
            "Ingresa el rango final que deseas: 90\n",
            "Ingresa un numero entre el rango 30 y 90: 8\n",
            "Ese numero NO esta en el rango\n",
            "Ingresa un numero entre el rango 30 y 90: 7\n",
            "Ese numero NO esta en el rango\n",
            "Ingresa un numero entre el rango 30 y 90: 9\n",
            "Ese numero NO esta en el rango\n",
            "Ingresa un numero entre el rango 30 y 90: 67\n",
            "Ese numero SI esta en el rango \n",
            "La cantidad de numeros es: 4\n",
            "El promedio de los numeros es de: 22.75\n"
          ]
        }
      ]
    },
    {
      "cell_type": "markdown",
      "source": [
        "## 4.- función que reciba como parámetro los valores para el área de un triángulo y retorne su resultado"
      ],
      "metadata": {
        "id": "RvdmKF3aOr5v"
      }
    },
    {
      "cell_type": "code",
      "source": [
        "def area(base,altura):\n",
        "    a = (base*altura)/2\n",
        "    return a\n",
        "\n",
        "base = float(input(\"Introduce la base del triangulo: \"))\n",
        "altura = float(input(\"Introduce la altura del triangulo: \"))\n",
        "\n",
        "a=area(base,altura)\n",
        "\n",
        "print(f\"El area del triangulo es de: {a}\")\n",
        "\n"
      ],
      "metadata": {
        "id": "M0BkJu93OsCV",
        "colab": {
          "base_uri": "https://localhost:8080/"
        },
        "outputId": "fde70b53-2dc5-4c98-cf26-1613b7ef0a01"
      },
      "execution_count": null,
      "outputs": [
        {
          "output_type": "stream",
          "name": "stdout",
          "text": [
            "Introduce la base del triangulo10\n",
            "Introduce la altura del triangulo8\n",
            "El area del triangulo es de: 40.0\n"
          ]
        }
      ]
    },
    {
      "cell_type": "markdown",
      "source": [
        "## 5.- función que sirva para validar un número dentro de un rango dado."
      ],
      "metadata": {
        "id": "_cA5SDrxOsKL"
      }
    },
    {
      "cell_type": "code",
      "source": [
        "def validar(ri=0,rf=50,msgError=\"El numero NO esta dentro del rango\"):\n",
        "    while True:\n",
        "        try:\n",
        "            num=int(input(\"Ingresa un numero: \"))\n",
        "        except:\n",
        "            print(msgError)\n",
        "            continue \n",
        "        if num<ri or num>rf:\n",
        "            print(msgError)\n",
        "            continue\n",
        "        else:\n",
        "            print(f\"El numero {num} SI esta dentro del rango {ri} y {rf}\")\n",
        "            break\n",
        "    \n",
        "validar()"
      ],
      "metadata": {
        "id": "aDWc3sOZOsmI",
        "colab": {
          "base_uri": "https://localhost:8080/"
        },
        "outputId": "8e3ed2e6-3da8-4e6a-f488-90301fd45ee7"
      },
      "execution_count": null,
      "outputs": [
        {
          "output_type": "stream",
          "name": "stdout",
          "text": [
            "Ingresa un numero: 56\n",
            "El numero NO esta dentro del rango\n",
            "Ingresa un numero: 78\n",
            "El numero NO esta dentro del rango\n",
            "Ingresa un numero: 23\n",
            "El numero 23 SI esta dentro del rango 0 y 50\n"
          ]
        }
      ]
    }
  ]
}