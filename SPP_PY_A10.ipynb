{
  "nbformat": 4,
  "nbformat_minor": 0,
  "metadata": {
    "colab": {
      "provenance": [],
      "authorship_tag": "ABX9TyORnW2qsJvY2RRwSrW3sujm",
      "include_colab_link": true
    },
    "kernelspec": {
      "name": "python3",
      "display_name": "Python 3"
    },
    "language_info": {
      "name": "python"
    }
  },
  "cells": [
    {
      "cell_type": "markdown",
      "metadata": {
        "id": "view-in-github",
        "colab_type": "text"
      },
      "source": [
        "<a href=\"https://colab.research.google.com/github/Samanthing/PYTHON/blob/main/SPP_PY_A10.ipynb\" target=\"_parent\"><img src=\"https://colab.research.google.com/assets/colab-badge.svg\" alt=\"Open In Colab\"/></a>"
      ]
    },
    {
      "cell_type": "code",
      "execution_count": 10,
      "metadata": {
        "colab": {
          "base_uri": "https://localhost:8080/"
        },
        "id": "mHw4hLsFC4gr",
        "outputId": "7cdfc6fa-fcb8-4ed7-d99c-f088f9099a1c"
      },
      "outputs": [
        {
          "output_type": "stream",
          "name": "stdout",
          "text": [
            "Looking in indexes: https://pypi.org/simple, https://us-python.pkg.dev/colab-wheels/public/simple/\n",
            "Requirement already satisfied: pyyaml in /usr/local/lib/python3.9/dist-packages (6.0)\n"
          ]
        }
      ],
      "source": [
        "from IPython.display import clear_output\n",
        "import pandas as pd\n",
        "import random\n",
        "!pip install pyyaml\n",
        "import json\n",
        "import pprint\n",
        "import yaml"
      ]
    },
    {
      "cell_type": "code",
      "source": [
        "#Validar Numeros\n",
        "def validar_num(msge,msgeError=\"ERROR: Debes ingresar un numero\"):\n",
        "    while True:\n",
        "        try:\n",
        "            num = int(input(f\"{msge}: \"))\n",
        "        except:\n",
        "            print (msgeError)\n",
        "            continue\n",
        "        else:\n",
        "            break\n",
        "    return num"
      ],
      "metadata": {
        "id": "2IgT586_F4bP"
      },
      "execution_count": 11,
      "outputs": []
    },
    {
      "cell_type": "code",
      "source": [
        "## Agregar Automatico\n",
        "def auto(dicc):\n",
        "    \n",
        "    listadicc=[]\n",
        "    clave=[\"ID\",\"Nombre\",\"Apellido\",\"Sexo\",\"Edad\",\"Puesto\"]\n",
        "    id=[98345,63854,17287,37618,70134,28462,48267]\n",
        "    nombre=[\"Pamela\",\"Jim\",\"Michael\",\"Dwight\",\"Angela\",\"Kelly\",\"Toby\"]\n",
        "    apellido=[\"Beesly\",\"Halpert\",\"Scott\",\"Schrute\",\"Martin\",\"Kapoor\",\"Flenderson\"]\n",
        "    sexo=[\"M\",\"H\"]\n",
        "    edad=[31,33,38,34,33,29,37]\n",
        "    puesto=[\"Secretario\",\"Vendedor\",\"Gerente\",\"Vendedor\",\"Contador\",\"Atencion al cliente\",\"Recursos Humanos\"]\n",
        "\n",
        "    dicc=dict(zip(clave,[random.choice(id),random.choice(nombre),random.choice(apellido),random.choice(sexo),random.choice(edad),random.choice(puesto)]))\n",
        "    listadicc.append(dicc)\n",
        "\n",
        "    print(\"Se agrego la persona correctamente\")\n"
      ],
      "metadata": {
        "id": "Vp2H1BTPsFhs"
      },
      "execution_count": 12,
      "outputs": []
    },
    {
      "cell_type": "code",
      "source": [
        "## Agregar Manual\n",
        "\n",
        "def manual(dicc):\n",
        "    clave=[\"ID\",\"Nombre\",\"Apellido\",\"Sexo\",\"Edad\",\"Puesto\"]\n",
        "    id=[]\n",
        "    nombre=[]\n",
        "    apellido1=[]\n",
        "    apellido2=[]\n",
        "    sexo=[]\n",
        "    edad=[]\n",
        "    puesto=[]\n",
        "    i=0\n",
        "    opc=1\n",
        "    while opc!=2:\n",
        "        clear_output()\n",
        "        print(\"Quieres agregar un trabajador a la lista?\")\n",
        "        print(\"1.- SI\")\n",
        "        opc=validar_num(\"2.- NO \")\n",
        "        if opc==2:\n",
        "            break\n",
        "        idag=validar_num(\"Ingresa el ID del trabajador:\")\n",
        "        id.append(idag)\n",
        "        nomag=input(\"Ingresa el nombre del trabajador: \")\n",
        "        nombre.append(nomag)\n",
        "\n",
        "        ap1ag=input(\"Ingresa el primer apellido del trabajador: \")\n",
        "        apellido1.append(ap1ag)\n",
        "\n",
        "        ap2ag=input(\"Ingresa el segundo apellido del trabajador: \")\n",
        "        apellido2.append(ap2ag)\n",
        "\n",
        "        sexoag=input(\"Ingresa el sexo del trabajador: \")\n",
        "        sexo.append(sexoag)\n",
        "\n",
        "        edag=input(\"Ingresa la edad del trabajador: \")\n",
        "        edad.append(edag)\n",
        "\n",
        "        puestag=input(\"Ingresa el puesto del trabajador: \")\n",
        "        puesto.append(puestag)\n",
        "\n",
        "        i+=1\n",
        "    input(\"Presiona enter para continuar\")\n",
        "    global op\n",
        "    op=0\n",
        "\n",
        "    oprand=random.randint(0,i)\n",
        "    dicc=dict(zip(clave,[id[oprand],nombre[oprand],apellido1[oprand],apellido2[oprand],sexo[oprand],edad[oprand],puesto[oprand]]))\n",
        "    \n",
        "    print(\"Trabajador agregado correctamente\")\n",
        "\n"
      ],
      "metadata": {
        "id": "FjYNfp16sLHs"
      },
      "execution_count": 13,
      "outputs": []
    },
    {
      "cell_type": "code",
      "source": [
        "## Imprimir\n",
        "\n",
        "def imprimir(dicc):\n",
        "    op=random.randint(1,3)\n",
        "    if op==1:\n",
        "        print(json.dumps(dicc, sort_keys=False, indent=2))\n",
        "    elif op==2:\n",
        "        print(yaml.dump(dicc, sort_keys=False, default_flow_style=False))\n",
        "    elif op==3:\n",
        "        salida=pd.DataFrame(dicc)\n"
      ],
      "metadata": {
        "id": "g6JrhyEnsOhX"
      },
      "execution_count": 14,
      "outputs": []
    },
    {
      "cell_type": "code",
      "source": [
        "## Buscar\n",
        "def buscar(dicc):\n",
        "    encontrado=[]\n",
        "    encontrado=False\n",
        "    busc=validar_num(\"Ingresa el ID que buscas: \")\n",
        "    for diccionario in dicc:\n",
        "        if diccionario.get(\"ID\")==busc:\n",
        "            print(f\"ID encontrado en la lista: {busc}\")\n",
        "            encontrado.append(dicc)\n",
        "            salida=pd.DataFrame(encontrado)\n",
        "            print(salida)\n",
        "            encontrado = True\n",
        "    if not encontrado:\n",
        "        print(f\"No se encontro ningun registro con el ID {busc}\")"
      ],
      "metadata": {
        "id": "HaZ7I7FSsRBu"
      },
      "execution_count": 15,
      "outputs": []
    },
    {
      "cell_type": "code",
      "source": [
        "## Eliminar \n",
        "def eliminar(lista_dic):\n",
        "    clear_output()\n",
        "    encontrado = False\n",
        "    id_eliminar = validar_num(\"Ingresa el ID de la persona que buscas: \")\n",
        "    for i, diccionario in enumerate(diccionario):\n",
        "        if diccionario.get(\"ID\") == eliminar:\n",
        "            print(f\"{eliminar} eliminada crrectamente\")\n",
        "            del lista_dic[i]\n",
        "            encontrado = True\n",
        "    if not encontrado:\n",
        "        print(f\"No se encontro ningun registro con el ID {id_eliminar}\")\n"
      ],
      "metadata": {
        "id": "thnR7AgCsUI4"
      },
      "execution_count": 16,
      "outputs": []
    },
    {
      "cell_type": "code",
      "source": [
        "dicc=[]\n",
        "while True:\n",
        "    print(\"---MENU---\")\n",
        "    print(\"1.- Agregar (automatico)\")\n",
        "    print(\"2.- Agregar (manual)\")\n",
        "    print(\"3.- Imprimir lista\")\n",
        "    print(\"4.- Buscar {ID}\")\n",
        "    print(\"5.- Ordenar\")\n",
        "    print(\"6.- Eliminar {ID}\")\n",
        "    print(\"7.- Borrar toda la lista\")\n",
        "    print(\"0.- Salir\")\n",
        "    op=validar_num(\"Escoge una opcion: \")\n",
        "    if op==1:\n",
        "        auto(dicc)\n",
        "        input(\"Presiona ENTER para borrar la pantalla\")\n",
        "        clear_output()\n",
        "        continue\n",
        "    elif op==2:\n",
        "        manual(dicc)\n",
        "        input(\"Presiona ENTER para borrar la pantalla\")\n",
        "        clear_output()\n",
        "        continue\n",
        "    elif op==3:\n",
        "        imprimir(dicc)\n",
        "        input(\"Presiona ENTER para borrar la pantalla\")\n",
        "        clear_output()\n",
        "        continue\n",
        "    elif op==4:\n",
        "        buscar(dicc)\n",
        "        input(\"Presiona ENTER para borrar la pantalla\")\n",
        "        clear_output()\n",
        "        continue\n",
        "    elif op==5:\n",
        "        input(\"Presiona ENTER para borrar la pantalla\")\n",
        "        clear_output()\n",
        "        continue \n",
        "    elif op==6:\n",
        "        eliminar(dicc)\n",
        "        input(\"Presiona ENTER para borrar la pantalla\")\n",
        "        clear_output()\n",
        "        continue\n",
        "    elif op==7:\n",
        "        dicc=[]\n",
        "        input(\"Presiona ENTER para borrar la pantalla\")\n",
        "        clear_output()\n",
        "        continue\n",
        "    elif op==0:\n",
        "        break"
      ],
      "metadata": {
        "colab": {
          "base_uri": "https://localhost:8080/"
        },
        "id": "9x7dDz6tgCYV",
        "outputId": "bba321fe-ca05-4568-8dcb-19ba6f1ae21f"
      },
      "execution_count": 19,
      "outputs": [
        {
          "name": "stdout",
          "output_type": "stream",
          "text": [
            "---MENU---\n",
            "1.- Agregar (automatico)\n",
            "2.- Agregar (manual)\n",
            "3.- Imprimir lista\n",
            "4.- Buscar {ID}\n",
            "5.- Ordenar\n",
            "6.- Eliminar {ID}\n",
            "7.- Borrar toda la lista\n",
            "0.- Salir\n",
            "Escoge una opcion: : 0\n"
          ]
        }
      ]
    }
  ]
}