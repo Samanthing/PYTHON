{
  "nbformat": 4,
  "nbformat_minor": 0,
  "metadata": {
    "colab": {
      "provenance": [],
      "authorship_tag": "ABX9TyOwS7d/ysumjIc4k2TDxcMy",
      "include_colab_link": true
    },
    "kernelspec": {
      "name": "python3",
      "display_name": "Python 3"
    },
    "language_info": {
      "name": "python"
    }
  },
  "cells": [
    {
      "cell_type": "markdown",
      "metadata": {
        "id": "view-in-github",
        "colab_type": "text"
      },
      "source": [
        "<a href=\"https://colab.research.google.com/github/Samanthing/PYTHON/blob/main/ejemplooo.ipynb\" target=\"_parent\"><img src=\"https://colab.research.google.com/assets/colab-badge.svg\" alt=\"Open In Colab\"/></a>"
      ]
    },
    {
      "cell_type": "markdown",
      "source": [
        "#Primer Programa en python en colaboratory <3\n",
        "\n",
        "\n",
        "1.   Usar colaboratory\n",
        "2.  Git Hub\n",
        "3. La sentencia de salida print\n",
        "\n"
      ],
      "metadata": {
        "id": "dzfpKdU0y3yk"
      }
    },
    {
      "cell_type": "code",
      "source": [
        "num=10"
      ],
      "metadata": {
        "id": "HmPnKDEF11Ay"
      },
      "execution_count": null,
      "outputs": []
    },
    {
      "cell_type": "code",
      "execution_count": null,
      "metadata": {
        "colab": {
          "base_uri": "https://localhost:8080/"
        },
        "cellView": "form",
        "id": "YseRurRtyEtA",
        "outputId": "dc96f30f-5e95-4248-8530-4f8a55416b71"
      },
      "outputs": [
        {
          "output_type": "stream",
          "name": "stdout",
          "text": [
            "Hola mundito\n"
          ]
        }
      ],
      "source": [
        "#@title Hola\n",
        "print(\"Hola mundito\")"
      ]
    },
    {
      "cell_type": "markdown",
      "source": [
        "## Este es mi nombre"
      ],
      "metadata": {
        "id": "xTGP00Zu0lWP"
      }
    },
    {
      "cell_type": "code",
      "source": [
        "#@title mi nombre\n",
        "print(\"Samantha Pérez Peña\")"
      ],
      "metadata": {
        "cellView": "form",
        "id": "f67NOSSu0JKj"
      },
      "execution_count": null,
      "outputs": []
    },
    {
      "cell_type": "markdown",
      "source": [
        "###Me dicen"
      ],
      "metadata": {
        "id": "EK4ZZW4v04Ql"
      }
    },
    {
      "cell_type": "code",
      "source": [
        "#@title Si\n",
        "print(\"Samanthing o Sam\")"
      ],
      "metadata": {
        "cellView": "form",
        "id": "5NmyjRgL1Gum"
      },
      "execution_count": null,
      "outputs": []
    }
  ]
}