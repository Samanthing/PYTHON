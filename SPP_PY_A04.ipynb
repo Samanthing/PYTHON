{
  "nbformat": 4,
  "nbformat_minor": 0,
  "metadata": {
    "colab": {
      "provenance": [],
      "authorship_tag": "ABX9TyPsiJLSyNTgGeBPg7NhYthb",
      "include_colab_link": true
    },
    "kernelspec": {
      "name": "python3",
      "display_name": "Python 3"
    },
    "language_info": {
      "name": "python"
    }
  },
  "cells": [
    {
      "cell_type": "markdown",
      "metadata": {
        "id": "view-in-github",
        "colab_type": "text"
      },
      "source": [
        "<a href=\"https://colab.research.google.com/github/Samanthing/PYTHON/blob/main/SPP_PY_A04.ipynb\" target=\"_parent\"><img src=\"https://colab.research.google.com/assets/colab-badge.svg\" alt=\"Open In Colab\"/></a>"
      ]
    },
    {
      "cell_type": "markdown",
      "source": [
        "# ACTIVIDAD 4 - Samantha Perez 00368933"
      ],
      "metadata": {
        "id": "8AG--Mbt-qx4"
      }
    },
    {
      "cell_type": "markdown",
      "source": [
        "## 1.- Programa en python   que lea 3 calificaciones calcule el promedio del alumno y desplegar: "
      ],
      "metadata": {
        "id": "xBqFFlO_-gwD"
      }
    },
    {
      "cell_type": "code",
      "execution_count": null,
      "metadata": {
        "colab": {
          "base_uri": "https://localhost:8080/"
        },
        "id": "Pe6x8b03-aHa",
        "outputId": "db5dda8f-8cfe-40e4-febd-7ae0eb71f5ef"
      },
      "outputs": [
        {
          "output_type": "stream",
          "name": "stdout",
          "text": [
            "Ingresa la primer calificacion: y\n",
            "ERROR Ingresa un numero\n"
          ]
        }
      ],
      "source": [
        "try:\n",
        "    calf1 = int(input(\"Ingresa la primer calificacion: \"))\n",
        "    calf2 = int(input(\"Ingresa la segunda caificacion: \"))\n",
        "    calf3 = int(input(\"Ingresa la tercer calificacion: \"))\n",
        "    prom = (calf1+calf2+calf3)/3\n",
        "    print(f\"Tu promedio es de: {prom}\")\n",
        "    if prom>=30:\n",
        "        if prom>=60:\n",
        "            if prom>=70:\n",
        "                if prom>=80:\n",
        "                    if prom>=90:\n",
        "                        if prom>98:\n",
        "                            if prom>100:\n",
        "                                print(\"ERROR\")\n",
        "                            else: \n",
        "                                print(\"EXCELENTE\")\n",
        "                        else:\n",
        "                            print(\"MUY BIEN\")\n",
        "                    else:   \n",
        "                        print(\"BIEN\")\n",
        "                else:\n",
        "                    print(\"REGULAR\")\n",
        "            else:\n",
        "                print(\"SUFICIENTE\")\n",
        "        else:\n",
        "            print(\"REPETIR\")\n",
        "    else:\n",
        "        print(\"EXTRAORDINARIO\")  \n",
        "except:\n",
        "    print(\"ERROR: Una calificacion es un NUMERO\")"
      ]
    },
    {
      "cell_type": "markdown",
      "source": [
        "## 2.- Programa en Python que sirva para calcular el salario semanal de un trabajador donde se obtiene como dato de entrada las horas semanales trabajadas, el salario por hora."
      ],
      "metadata": {
        "id": "Y29IDHtyAOOi"
      }
    },
    {
      "cell_type": "code",
      "source": [
        "try:\n",
        "    horas = int(input(\"Ingresa las horas semanales trabajadas: \"))\n",
        "    salario = int(input(\"Ingresa el salario por hora: \"))\n",
        "\n",
        "    if horas > 40:\n",
        "        salario_normal = salario*40\n",
        "        if horas <= 49:\n",
        "            salario_extra = ((horas-40)*2*salario)\n",
        "        else:\n",
        "            salario_extra = ((salario*2)*9 + (salario*3)*(horas-49))\n",
        "    else:\n",
        "        salario_total = horas * salario\n",
        "        salario_normal=salario_total\n",
        "\n",
        "    salario_total=salario_normal+salario_extra\n",
        "    print(f\"El salario por hora es: {salario}\")\n",
        "    print(f\"Las horas trabajadas fueron: {horas}\")\n",
        "    print(f\"El salario normal es: {salario_normal}\")\n",
        "    print(f\"El salario extra es: {salario_extra}\")\n",
        "    print(f\"El salario total es: {salario_total}\")\n",
        "except:\n",
        "    print(\"ERROR: El valor debe ser un NUMERO\")"
      ],
      "metadata": {
        "colab": {
          "base_uri": "https://localhost:8080/"
        },
        "id": "GEUW8T3PAapb",
        "outputId": "5bfc8dd3-efa7-4348-99c4-cc30e9f121ca"
      },
      "execution_count": 2,
      "outputs": [
        {
          "output_type": "stream",
          "name": "stdout",
          "text": [
            "Ingresa las horas semanales trabajadas: 51\n",
            "Ingresa el salario por hora: 40\n",
            "El salario por hora es: 40\n",
            "Las horas trabajadas fueron: 51\n",
            "El salario normal es: 1600\n",
            "El salario extra es: 960\n",
            "El salario total es: 2560\n"
          ]
        }
      ]
    },
    {
      "cell_type": "markdown",
      "source": [
        "## 3.- Programa en Python que sirva para calcular el Total a pagar por consumo de agua, donde el dato de entrada son los M3 de agua consumidos"
      ],
      "metadata": {
        "id": "OiQ0SgWyA12a"
      }
    },
    {
      "cell_type": "code",
      "source": [
        "try: \n",
        "    agua = int(input(\"Ingrese los M3 de agua consumidos:\"))\n",
        "    if agua>4:\n",
        "        if agua>15:\n",
        "            if agua>50:\n",
        "                mextra=agua-50\n",
        "                subtot= 50+(11*8)+(35*10)+(mextra*11)\n",
        "            else:\n",
        "                mextra=agua-15\n",
        "                subtot=50+(11*8)+(mextra*10)\n",
        "        else:\n",
        "            mextra=agua-4\n",
        "            subtot=50+(mextra*8)\n",
        "    else:\n",
        "        subtot=50\n",
        "\n",
        "    iva=subtot*0.16\n",
        "    total=subtot+iva\n",
        "    print(f\"Su subtotal es de: ${subtot}\")\n",
        "    print(f\"El iva es de: ${iva}\")\n",
        "    print(f\"Su total es de: ${total}\")\n",
        "except:\n",
        "    print(\"ERROR: Ingresa un NUMERO\")"
      ],
      "metadata": {
        "colab": {
          "base_uri": "https://localhost:8080/"
        },
        "id": "95ucDFvRA1XT",
        "outputId": "8f556041-9f07-409a-a43e-9cc84942dd93"
      },
      "execution_count": null,
      "outputs": [
        {
          "output_type": "stream",
          "name": "stdout",
          "text": [
            "Ingrese los M3 de agua consumidos:tres\n",
            "ERROR: Ingresa un NUMERO\n"
          ]
        }
      ]
    },
    {
      "cell_type": "markdown",
      "source": [
        "## 4- En la materia de Metodología de la programación se aplican 5 exámenes, calcular el promedio final de la materia donde la calificación menor de los exámenes se anula y el promedio se calcula en base a 4 exámenes.\n"
      ],
      "metadata": {
        "id": "sbMPQplABl1S"
      }
    },
    {
      "cell_type": "code",
      "source": [
        "try:\n",
        "    calf1 = int(input(\"Ingresa la primer calificacion: \"))\n",
        "    calf2 = int(input(\"Ingresa la segunda calificacion: \"))\n",
        "    calf3 = int(input(\"Ingresa la tercer calificacion: \"))\n",
        "    calf4 = int(input(\"Ingresa la cuarta calificacion: \"))\n",
        "    calf5 = int(input(\"Ingresa la quinta calificacion: \"))\n",
        "    menor = calf1\n",
        "    if calf2 < menor:\n",
        "        menor=calf2\n",
        "    if calf3 < menor:\n",
        "        menor=calf3\n",
        "    if calf4 < menor:\n",
        "        menor=calf4\n",
        "    if calf5 < menor:\n",
        "        menor=calf5\n",
        "                \n",
        "    prom = ((calf1+calf2+calf3+calf4+calf5)-menor)/4\n",
        "    print(f\"La calificacion anulada fue: {menor}\")\n",
        "    print(f\"El promedio final es de: {prom}\")\n",
        "except: \n",
        "    print(\"ERROR: La calificacion debe ser un NUMERO\")\n"
      ],
      "metadata": {
        "colab": {
          "base_uri": "https://localhost:8080/"
        },
        "id": "yt56LwUcBu2K",
        "outputId": "044c5a59-ff4b-4c84-e918-5dabac070e5f"
      },
      "execution_count": null,
      "outputs": [
        {
          "output_type": "stream",
          "name": "stdout",
          "text": [
            "Ingresa la primer calificacion: ocho\n",
            "ERROR: La calificacion debe ser un NUMERO\n"
          ]
        }
      ]
    },
    {
      "cell_type": "markdown",
      "source": [
        "## 5.- Programa en Python que sirva para el juego del CHINCHAMPU (Piedra, Papel, Tijera) para 1 jugador y la computadora"
      ],
      "metadata": {
        "id": "dtYsRifjCZza"
      }
    },
    {
      "cell_type": "code",
      "source": [
        "try:\n",
        "    import random\n",
        "    print(\"1- PIEDRA\")\n",
        "    print(\"2- PAPEL\")\n",
        "    print(\"3- TIJERA\")\n",
        "    jugada = int(input(\"PIEDRA, PAPEL O TIJERA? \"))\n",
        "    compu= random.randint(1,3)\n",
        "    if compu==1:\n",
        "        print(\"La compu elige PIEDRA\")\n",
        "        if jugada==1:\n",
        "            print(\"Elegiste PIEDRA\")\n",
        "            print(\"EMPATE :/\")\n",
        "        else: \n",
        "            if jugada==2:\n",
        "                print(\"Elegiste PAPEL\")\n",
        "                print(\"GANASTE! :D\")\n",
        "            else:\n",
        "                if jugada==3:\n",
        "                    print(\"Elegiste TIJERA\")\n",
        "                    print(\"PERDISTE :(\")\n",
        "                else: \n",
        "                    print(\"ERROR\")\n",
        "    else:\n",
        "        if compu==2:\n",
        "            print(\"La compu elige PAPEL\")\n",
        "            if jugada==1:\n",
        "                print(\"Elegiste PIEDRA\")\n",
        "                print(\"PERDISTE :(\")\n",
        "            else:\n",
        "                if jugada==2:\n",
        "                    print(\"Elegiste PAPEL\")\n",
        "                    print(\"EMPATE :/\")\n",
        "                else:\n",
        "                    if jugada==3:\n",
        "                        print(\"Elegiste TIJERA\")\n",
        "                        print(\"GANASTE! :D\")\n",
        "                    else: \n",
        "                        (\"ERROR\")\n",
        "        else:\n",
        "            if compu==3:\n",
        "                print(\"La compu elige TIJERA\")\n",
        "                if jugada==1:\n",
        "                    print(\"Elegiste PIEDRA\")\n",
        "                    print(\"GANASTE! :D\")\n",
        "                else:\n",
        "                    if jugada==2:\n",
        "                        print(\"Elegiste PAPEL\")\n",
        "                        print(\"PERDISTE :(\")\n",
        "                    else: \n",
        "                        if jugada==3:\n",
        "                            print(\"Elegiste TIJERA\")\n",
        "                            print(\"EMPATE :/\")\n",
        "                        else:\n",
        "                            (\"ERROR\")\n",
        "except:\n",
        "    print(\"ERROR: Debes ingresar un NUMERO\")"
      ],
      "metadata": {
        "colab": {
          "base_uri": "https://localhost:8080/"
        },
        "id": "Wog2yS_RCcMB",
        "outputId": "e41a6d29-291c-45ea-bb02-b619d32f3ad8"
      },
      "execution_count": null,
      "outputs": [
        {
          "output_type": "stream",
          "name": "stdout",
          "text": [
            "1- PIEDRA\n",
            "2- PAPEL\n",
            "3- TIJERA\n",
            "PIEDRA, PAPEL O TIJERA? piedra\n",
            "ERROR: Debes ingresar un NUMERO\n"
          ]
        }
      ]
    },
    {
      "cell_type": "markdown",
      "source": [
        "## 6.- Programa en Python que lea 4 números enteros desplegar cuales el menor, cual es mayor"
      ],
      "metadata": {
        "id": "mm-2nzS4Dvdq"
      }
    },
    {
      "cell_type": "code",
      "source": [
        "try:\n",
        "    num1 = int(input(\"Ingresa un numero: \"))\n",
        "    num2 = int(input(\"Ingresa otro numero: \"))\n",
        "    num3 = int(input(\"Ingresa otro numero: \"))\n",
        "    num4 = int(input(\"Ingresa el ultimo numero: \"))\n",
        "    mayor=max(num1,num2,num3,num4)\n",
        "    menor=min(num1,num2,num3,num4)\n",
        "\n",
        "    print(f\"El numero mayor es: {mayor}\")\n",
        "    print(f\"El numero menor es: {menor}\")\n",
        "except:\n",
        "    print(\"ERROR: Debes ingresar un numero\")"
      ],
      "metadata": {
        "colab": {
          "base_uri": "https://localhost:8080/"
        },
        "id": "mLBF4h1rDwpC",
        "outputId": "3e9b5c4e-dc1d-491f-e987-8bfcdcc6570e"
      },
      "execution_count": null,
      "outputs": [
        {
          "output_type": "stream",
          "name": "stdout",
          "text": [
            "Ingresa un numero: 2\n",
            "Ingresa otro numero: tres\n",
            "ERROR: Debes ingresar un numero\n"
          ]
        }
      ]
    },
    {
      "cell_type": "markdown",
      "source": [
        "## 7.- Programa en Python que sirva para calcular el área de un triangulo, los datos de entrada deben ser forzosamente de tipo real"
      ],
      "metadata": {
        "id": "9_p62QwMESkF"
      }
    },
    {
      "cell_type": "code",
      "source": [
        "try:\n",
        "    base = (int(input(\"Ingresa el valor de la base del triangulo: \")))\n",
        "    altura= (int(input(\"Ingresa el valor de la altura del triangulo: \")))\n",
        "    area=(base*altura)/2\n",
        "    print(f\"El area de este triangulo es de: {area}\")\n",
        "except ValueError:\n",
        "    print(\"ERROR: Debes ingresar un numero real\")"
      ],
      "metadata": {
        "colab": {
          "base_uri": "https://localhost:8080/"
        },
        "id": "aPTxvp_vETAL",
        "outputId": "865d81c4-609a-4f06-99d4-ea0d7682a2a1"
      },
      "execution_count": null,
      "outputs": [
        {
          "output_type": "stream",
          "name": "stdout",
          "text": [
            "Ingresa el valor de la base del triangulo: 3.14\n",
            "ERROR: Debes ingresar un numero real\n"
          ]
        }
      ]
    },
    {
      "cell_type": "markdown",
      "source": [
        "## 8.- Programa en Python que sirva para calcular el área de un circulo"
      ],
      "metadata": {
        "id": "pIQSBl3vETUa"
      }
    },
    {
      "cell_type": "code",
      "source": [
        "try: \n",
        "    radio = (int(input(\"Ingresa el valor del radio del circulo: \")))\n",
        "    pi=3.1416\n",
        "    area=pi*pow(radio,2)\n",
        "    print(f\"El area de este circulo es de:{area}\")\n",
        "except ValueError:   \n",
        "    print(\"ERROR: Debes ingresar un numero real\") "
      ],
      "metadata": {
        "colab": {
          "base_uri": "https://localhost:8080/"
        },
        "id": "lTWC-SMiETi0",
        "outputId": "8058014c-8002-435b-87ac-ca7375fef10c"
      },
      "execution_count": null,
      "outputs": [
        {
          "output_type": "stream",
          "name": "stdout",
          "text": [
            "Ingresa el valor del radio del circulo: 5.34\n",
            "ERROR: Debes ingresar un numero real\n"
          ]
        }
      ]
    }
  ]
}