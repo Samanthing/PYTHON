{
  "nbformat": 4,
  "nbformat_minor": 0,
  "metadata": {
    "colab": {
      "provenance": [],
      "authorship_tag": "ABX9TyNm2bB8UOSFzzAGws8KTQ9+",
      "include_colab_link": true
    },
    "kernelspec": {
      "name": "python3",
      "display_name": "Python 3"
    },
    "language_info": {
      "name": "python"
    }
  },
  "cells": [
    {
      "cell_type": "markdown",
      "metadata": {
        "id": "view-in-github",
        "colab_type": "text"
      },
      "source": [
        "<a href=\"https://colab.research.google.com/github/Samanthing/PYTHON/blob/main/SPP_PY_A03_ipyn.ipynb\" target=\"_parent\"><img src=\"https://colab.research.google.com/assets/colab-badge.svg\" alt=\"Open In Colab\"/></a>"
      ]
    },
    {
      "cell_type": "markdown",
      "source": [
        "# ACTIVIDAD 3 - Samantha Perez 00368933\n"
      ],
      "metadata": {
        "id": "Uztq0qQV5Qin"
      }
    },
    {
      "cell_type": "markdown",
      "source": [
        "## 1- Algoritmo que lea 3 calificaciones calcule el promedio del alumno y desplegar leyendas segun corresponda."
      ],
      "metadata": {
        "id": "K8bOQXul5cjM"
      }
    },
    {
      "cell_type": "code",
      "execution_count": null,
      "metadata": {
        "colab": {
          "base_uri": "https://localhost:8080/"
        },
        "id": "5b91JXHL5IKQ",
        "outputId": "9881df4e-f72e-47a3-fdee-7ca0e7f0d33d"
      },
      "outputs": [
        {
          "output_type": "stream",
          "name": "stdout",
          "text": [
            "Ingresa la primer calificacion: 100\n",
            "Ingresa la segunda caificacion: 100\n",
            "Ingresa la tercer calificacion: 100\n",
            "Tu promedio es de: 100.0\n",
            "EXCELENTE\n"
          ]
        }
      ],
      "source": [
        "calf1 = int(input(\"Ingresa la primer calificacion: \"))\n",
        "calf2 = int(input(\"Ingresa la segunda caificacion: \"))\n",
        "calf3 = int(input(\"Ingresa la tercer calificacion: \"))\n",
        "prom = (calf1+calf2+calf3)/3\n",
        "print(f\"Tu promedio es de: {prom}\")\n",
        "if prom>=30:\n",
        "   if prom>=60:\n",
        "      if prom>=70:\n",
        "         if prom>=80:\n",
        "            if prom>=90:\n",
        "               if prom>98:\n",
        "                  if prom>100:\n",
        "                      print(\"ERROR\")\n",
        "                  else: \n",
        "                      print(\"EXCELENTE\")\n",
        "               else:\n",
        "                   print(\"MUY BIEN\")\n",
        "            else:   \n",
        "                print(\"BIEN\")\n",
        "         else:\n",
        "              print(\"REGULAR\")\n",
        "      else:\n",
        "          print(\"SUFICIENTE\")\n",
        "   else:\n",
        "        print(\"REPETIR\")\n",
        "else:\n",
        "    print(\"EXTRAORDINARIO\")  \n"
      ]
    },
    {
      "cell_type": "markdown",
      "source": [
        "## 2-Algoritmo que sirva para calcular el salario semanal de un trabajador donde se obtiene como dato de entrada las horas semanales trabajadas, el salario por hora. "
      ],
      "metadata": {
        "id": "rPuyglG4JRY9"
      }
    },
    {
      "cell_type": "code",
      "source": [
        "horas = int(input(\"Ingresa las horas semanales trabajadas: \"))\n",
        "salario = int(input(\"Ingresa el salario por hora: \"))\n",
        "\n",
        "if horas > 40:\n",
        "    salario_normal = salario*40\n",
        "    horas_extras = horas-40\n",
        "    if horas_extras <= 9:\n",
        "        salario_extra = (horas_extras*2*salario)\n",
        "    else:\n",
        "        salario_extra = ((horas_extras-9)*3*salario) + (9*2*salario)\n",
        "else:\n",
        "    salario_total = horas * salario\n",
        "    salario_normal=salario_total\n",
        "\n",
        "salario_total=salario_normal+salario_extra\n",
        "print(f\"El salario por hora es: {salario}\")\n",
        "print(f\"Las horas trabajadas fueron: {horas}\")\n",
        "print(f\"El salario normal es: {salario_normal}\")\n",
        "print(f\"El salario extra es: {salario_extra}\")\n",
        "print(f\"El salario total es: {salario_total}\")"
      ],
      "metadata": {
        "id": "n_KC7Fy0EGSR",
        "colab": {
          "base_uri": "https://localhost:8080/"
        },
        "outputId": "0780031e-8e92-4d6b-b324-30576490a6b0"
      },
      "execution_count": null,
      "outputs": [
        {
          "output_type": "stream",
          "name": "stdout",
          "text": [
            "Ingresa las horas semanales trabajadas: 53\n",
            "Ingresa el salario por hora: 100\n",
            "El salario por hora es: 100\n",
            "Las horas trabajadas fueron: 53\n",
            "El salario normal es: 4000\n",
            "El salario extra es: 3000\n",
            "El salario total es: 7000\n"
          ]
        }
      ]
    },
    {
      "cell_type": "markdown",
      "source": [
        "## 3.- Algoritmo que sirva para desplegar el Total de una llamada telefónica donde se pide como datos de entrada los minutos y el tipo de llamada"
      ],
      "metadata": {
        "id": "bi13BtJFniZy"
      }
    },
    {
      "cell_type": "code",
      "source": [
        "print(\"BIENVENIDO\")\n",
        "print(\"1.- LLAMADA LOCAL - $3.00 SL\")\n",
        "print(\"2.- LLAMADA NACIONAL - $7.00 3 MINS + $2.00 MINS ADICIONALES\")\n",
        "print(\"3.- LLAMADA INTERNACIONAL - $9.00 2 MINS + $4.00 MINS ADICIONALES\")\n",
        "tipo = int(input(\"Ingrese el tipo de llamada: \"))\n",
        "minutos = int(input(\"Ingrese los minutos de la llamada: \"))\n",
        "\n",
        "if tipo==1:\n",
        "    print(\"LLAMADA LOCAL\")\n",
        "subtot = minutos*3\n",
        "if tipo==2:\n",
        "    print(\"LLAMADA NACIONAL\")\n",
        "    if minutos<=3:\n",
        "            subtot=minutos*3\n",
        "    else:\n",
        "     subtot=(3*7)+((minutos-3)*2)\n",
        "if tipo==3:\n",
        "    print(\"LLAMADA INTERNACIONAL\")\n",
        "    if minutos<=2:\n",
        "        subtot=minutos*9\n",
        "    else:\n",
        "        subtot=(9*2)+((minutos-2)*4)\n",
        "\n",
        "iva=subtot*0.16\n",
        "total=iva+subtot\n",
        "print(f\"Su subtotal es de: ${subtot}\")\n",
        "print(f\"Iva(16%): ${iva}\")\n",
        "print(f\"Su total es de: ${total}\")\n",
        "\n",
        "\n"
      ],
      "metadata": {
        "id": "rgPJOv91ou78",
        "colab": {
          "base_uri": "https://localhost:8080/"
        },
        "outputId": "735b1766-b41f-4bb9-c7d5-ad80dc1897da"
      },
      "execution_count": null,
      "outputs": [
        {
          "output_type": "stream",
          "name": "stdout",
          "text": [
            "BIENVENIDO\n",
            "1.- LLAMADA LOCAL - $3.00 SL\n",
            "2.- LLAMADA NACIONAL - $7.00 3 MINS + $2.00 MINS ADICIONALES\n",
            "3.- LLAMADA INTERNACIONAL - $9.00 2 MINS + $4.00 MINS ADICIONALES\n",
            "Ingrese el tipo de llamada: 2\n",
            "Ingrese los minutos de la llamada: 7\n",
            "LLAMADA NACIONAL\n",
            "Su subtotal es de: $29\n",
            "Iva(16%): $4.64\n",
            "Su total es de: $33.64\n"
          ]
        }
      ]
    },
    {
      "cell_type": "markdown",
      "source": [
        "## 4.- Algoritmo que sirva para calcular el Total a pagar por consumo de agua, donde el dato de entrada son los M3 de agua consumidos"
      ],
      "metadata": {
        "id": "McZzXeHYRmyP"
      }
    },
    {
      "cell_type": "code",
      "source": [
        "agua = int(input(\"Ingrese los M3 de agua consumidos:\"))\n",
        "if agua>4:\n",
        "    if agua>15:\n",
        "        if agua>50:\n",
        "            mextra=agua-50\n",
        "            subtot= 50+(11*8)+(35*10)+(mextra*11)\n",
        "        else:\n",
        "            mextra=agua-15\n",
        "            subtot=50+(11*8)+(mextra*10)\n",
        "    else:\n",
        "        mextra=agua-4\n",
        "        subtot=50+(mextra*8)\n",
        "else:\n",
        "    subtot=50\n",
        "iva=subtot*0.16\n",
        "total=subtot+iva\n",
        "print(f\"Su subtotal es de: ${subtot}\")\n",
        "print(f\"El iva es de: ${iva}\")\n",
        "print(f\"Su total es de: ${total}\")"
      ],
      "metadata": {
        "id": "E7ncyna5RqmF",
        "colab": {
          "base_uri": "https://localhost:8080/"
        },
        "outputId": "7998107b-83a8-4f11-91af-73ee6c826ca3"
      },
      "execution_count": null,
      "outputs": [
        {
          "output_type": "stream",
          "name": "stdout",
          "text": [
            "Ingrese los M3 de agua consumidos:56\n",
            "Su subtotal es de: $554\n",
            "El iva es de: $88.64\n",
            "Su total es de: $642.64\n"
          ]
        }
      ]
    },
    {
      "cell_type": "markdown",
      "source": [
        "## 5- En la materia de Metodología de la programación se aplican 5 exámenes, calcular el promedio final de la materia donde la calificación menor de los exámenes se anula y el promedio se calcula en base a 4 exámenes.\n",
        "\n"
      ],
      "metadata": {
        "id": "_1CuzpPcRsgd"
      }
    },
    {
      "cell_type": "code",
      "source": [
        "calf1 = int(input(\"Ingresa la primer calificacion: \"))\n",
        "calf2 = int(input(\"Ingresa la segunda calificacion: \"))\n",
        "calf3 = int(input(\"Ingresa la tercer calificacion: \"))\n",
        "calf4 = int(input(\"Ingresa la cuarta calificacion: \"))\n",
        "calf5 = int(input(\"Ingresa la quinta calificacion: \"))\n",
        "menor = calf1\n",
        "if calf2 < menor:\n",
        "    menor=calf2\n",
        "if calf3 < menor:\n",
        "    menor=calf3\n",
        "if calf4 < menor:\n",
        "    menor=calf4\n",
        "if calf5 < menor:\n",
        "    menor=calf5\n",
        "                \n",
        "prom = ((calf1+calf2+calf3+calf4+calf5)-menor)/4\n",
        "print(f\"El promedio final es de: {prom}\")\n"
      ],
      "metadata": {
        "id": "c3trUwOiRwG6",
        "colab": {
          "base_uri": "https://localhost:8080/"
        },
        "outputId": "3b3b0e6d-d0c6-44d7-8a37-ad5afd2c2b1e"
      },
      "execution_count": null,
      "outputs": [
        {
          "output_type": "stream",
          "name": "stdout",
          "text": [
            "Ingresa la primer calificacion: 100\n",
            "Ingresa la segunda calificacion: 100\n",
            "Ingresa la tercer calificacion: 100\n",
            "Ingresa la cuarta calificacion: 100\n",
            "Ingresa la quinta calificacion: 50\n",
            "El promedio final es de: 100.0\n"
          ]
        }
      ]
    },
    {
      "cell_type": "markdown",
      "source": [
        "## 6.- Algoritmo que sirva para el juego del CHINCHAMPU (Piedra, Papel, Tijera) para 1 jugador y la computadora, (usar condición anidada) "
      ],
      "metadata": {
        "id": "oW6Eq0sDRwk0"
      }
    },
    {
      "cell_type": "code",
      "source": [
        "import random\n",
        "print(\"1- PIEDRA\")\n",
        "print(\"2- PAPEL\")\n",
        "print(\"3- TIJERA\")\n",
        "jugada = int(input(\"PIEDRA, PAPEL O TIJERA? \"))\n",
        "compu= random.randint(1,3)\n",
        "print(\"Elegiste:\")\n",
        "if jugada==1:\n",
        "    print(\"PIEDRA\")\n",
        "if jugada==2:\n",
        "    print(\"PAPEL\")\n",
        "if jugada==3:\n",
        "    print(\"TIJERA\")\n",
        "print(\"La compu elige:\")\n",
        "if compu==1:\n",
        "    print(\"PIEDRA\")\n",
        "if compu==2:\n",
        "    print(\"PAPEL\")\n",
        "if compu==3:\n",
        "    print(\"TIJERA\")\n",
        "\n",
        "if jugada==1:\n",
        "    if compu==2:\n",
        "        print(\"PERDISTE :(\")\n",
        "    else:\n",
        "        if compu==3:\n",
        "            print(\"GANASTE! :D\")\n",
        "        else:\n",
        "            print(\"EMPATE :/\")\n",
        "else:\n",
        "    if jugada==2:\n",
        "        if compu==1:\n",
        "         print(\"GANASTE! :D\")\n",
        "        else:\n",
        "            if compu==3:\n",
        "                print(\"PERDISTE :(\")\n",
        "            else:\n",
        "                print(\"EMPATE :/\")\n",
        "    else:\n",
        "        if jugada==3:\n",
        "            if compu==1:\n",
        "             print(\"PERDISTE :(\")\n",
        "            else:\n",
        "                if compu==2:\n",
        "                    print(\"GANASTE! :D\")\n",
        "                else:\n",
        "                    print(\"EMPATE :/\")\n",
        "        else:\n",
        "            print(\"Error\")"
      ],
      "metadata": {
        "id": "Rsh_Q0opRze-",
        "colab": {
          "base_uri": "https://localhost:8080/"
        },
        "outputId": "d2f66017-aeb5-457a-8d00-aac8c2ed38d1"
      },
      "execution_count": null,
      "outputs": [
        {
          "output_type": "stream",
          "name": "stdout",
          "text": [
            "1- PIEDRA\n",
            "2- PAPEL\n",
            "3- TIJERA\n",
            "PIEDRA, PAPEL O TIJERA? 2\n",
            "Elegiste:\n",
            "PAPEL\n",
            "La compu elige:\n",
            "PIEDRA\n",
            "GANASTE! :D\n"
          ]
        }
      ]
    },
    {
      "cell_type": "markdown",
      "source": [
        "## 7.- Algoritmo que sirva para el juego del CHINCHAMPU (Piedra, Papel, Tijera) para 1 jugador y la computadora, (usar selección múltiple) "
      ],
      "metadata": {
        "id": "WmrVoJepRzyv"
      }
    },
    {
      "cell_type": "code",
      "source": [
        "import random\n",
        "print(\"1- PIEDRA\")\n",
        "print(\"2- PAPEL\")\n",
        "print(\"3- TIJERA\")\n",
        "jugada = int(input(\"PIEDRA, PAPEL O TIJERA? \"))\n",
        "compu= random.randint(1,3)\n",
        "if compu==1:\n",
        "    print(\"La compu elige piedra\")\n",
        "    if jugada==1:\n",
        "        print(\"EMPATE :/\")\n",
        "    else: \n",
        "        if jugada==2:\n",
        "            print(\"GANASTE! :D\")\n",
        "        else:\n",
        "            if jugada==3:\n",
        "                print(\"PERDISTE :(\")\n",
        "            else: \n",
        "                print(\"ERROR\")\n",
        "else:\n",
        "    if compu==2:\n",
        "        print(\"La compu elige papel\")\n",
        "        if jugada==1:\n",
        "            print(\"PERDISTE :(\")\n",
        "        else:\n",
        "            if jugada==2:\n",
        "                print(\"EMPATE :/\")\n",
        "            else:\n",
        "                if jugada==3:\n",
        "                    print(\"GANASTE! :D\")\n",
        "                else: \n",
        "                    (\"ERROR\")\n",
        "    else:\n",
        "        if compu==3:\n",
        "            print(\"La compu elige tijera\")\n",
        "            if jugada==1:\n",
        "                print(\"GANASTE! :D\")\n",
        "            else:\n",
        "                if jugada==2:\n",
        "                    print(\"PERDISTE :(\")\n",
        "                else: \n",
        "                    if jugada==3:\n",
        "                        print(\"EMPATE :/\")\n",
        "                    else:\n",
        "                        (\"ERROR\")\n"
      ],
      "metadata": {
        "id": "VshC8GzxR1p9"
      },
      "execution_count": null,
      "outputs": []
    },
    {
      "cell_type": "markdown",
      "source": [
        "## 8.-Escribe un programa que calcule el precio a pagar por un cliente, tomando en cuenta los descuentos correspondientes. (Computadora, impresora,television,consola)"
      ],
      "metadata": {
        "id": "GSpoQyA2R2Io"
      }
    },
    {
      "cell_type": "code",
      "source": [
        "print(\"BIENVENIDO A LA TIENDA DE ELECTRONICA\")\n",
        "print(\"PRODUCTOS DISPONIBLES: \")\n",
        "print(\"1- Computadora - $20,000 \\n 2- Impresora - $8,000 \\n 3- Tele - $12,000\")\n",
        "print(\"4- Barra de sonido - $7,000 \\n 5- Consola - $23,000 \\n 6- Juego - $450\")\n",
        "producto1 = int(input(\"Que producto desea adquirir? \"))\n",
        "producto2 = int(input(\"Escoja otro producto para adquirir su promocion: \"))\n",
        "computadora=20000\n",
        "impresora=8000\n",
        "television=12000\n",
        "sonido=7000\n",
        "consola=23000\n",
        "juego=450\n",
        "if producto1==1:\n",
        "    precio1=computadora\n",
        "else:\n",
        "    if producto1==2:\n",
        "        precio1=impresora\n",
        "    else:\n",
        "        if producto1==3:\n",
        "            precio1=television\n",
        "        else:\n",
        "            if producto1==4:\n",
        "                precio1=sonido\n",
        "            else:\n",
        "                if producto1==5:\n",
        "                    precio1=consola\n",
        "                else:\n",
        "                    if producto1==6:\n",
        "                        precio1=juego\n",
        "\n",
        "if producto2==1:\n",
        "    precio2=computadora\n",
        "else:\n",
        "    if producto2==2:\n",
        "        precio2=impresora\n",
        "    else:\n",
        "        if producto2==3:\n",
        "            precio2=television\n",
        "        else:\n",
        "            if producto2==4:\n",
        "                precio2=sonido\n",
        "            else:\n",
        "                if producto2==5:\n",
        "                    precio2=consola\n",
        "                else:\n",
        "                    if producto2==6:\n",
        "                        precio2=juego\n",
        "\n",
        "if producto1==1 and producto2==2:\n",
        "    desc1=computadora*0.05\n",
        "    desc2=impresora*0.10\n",
        "    total=(computadora-desc1)+(impresora-desc2)\n",
        "    print(f\"{computadora}+{impresora}={computadora+impresora}\")\n",
        "    print(\"Obtuvo 5% de descuento en la computadora y 10% en la impresora\")\n",
        "    print(f\"Su total es de: ${total}\")\n",
        "else:\n",
        "    if producto1==3 and producto2==4:\n",
        "        desc1=television*0.07\n",
        "        desc2=sonido*0.15\n",
        "        total=(television-desc1)+(sonido-desc2)\n",
        "        print(f\"{television}+{sonido}={television+sonido}\")\n",
        "        print(\"Obtuvo 7% de descuento en la tele y 15% en la barra de sonido\")\n",
        "        print(f\"Su total es de: ${total}\")\n",
        "    else:\n",
        "        if producto1==5 and producto2==6:\n",
        "            desc1=consola*0.10\n",
        "            desc2=juego*0.20\n",
        "            total=(consola-desc1)+(juego-desc2)\n",
        "            print(f\"{consola}+{juego}={consola+juego}\")\n",
        "            print(\"Obtuvo 10% de descuento en la consola y 20% en el juego\")\n",
        "            print(f\"Su total es de: ${total}\")\n",
        "\n"
      ],
      "metadata": {
        "id": "GeWCHQ_GR5zd",
        "colab": {
          "base_uri": "https://localhost:8080/"
        },
        "outputId": "bf2da134-519c-4fcc-ebcc-aa6f848d0106"
      },
      "execution_count": null,
      "outputs": [
        {
          "output_type": "stream",
          "name": "stdout",
          "text": [
            "BIENVENIDO A LA TIENDA DE ELECTRONICA\n",
            "PRODUCTOS DISPONIBLES: \n",
            "1- Computadora - $20,000 \n",
            " 2- Impresora - $8,000 \n",
            " 3- Tele - $12,000\n",
            "4- Barra de sonido - $7,000 \n",
            " 5- Consola - $23,000 \n",
            " 6- Juego - $450\n",
            "Que producto desea adquirir?1\n",
            "Escoja otro producto para adquirir su promocion: 2\n",
            "20000+8000=28000\n",
            "Obtuvo 5% de descuento en la computadora y 10% en la impresora\n",
            "Su total es de: $26200.0\n"
          ]
        }
      ]
    },
    {
      "cell_type": "markdown",
      "source": [
        "## 9.-Escribe un programa que calcule el precio a pagar por un cliente, tomando en cuenta los descuentos correspondientes. (ropa por temporada)"
      ],
      "metadata": {
        "id": "3NJO_HZfR6du"
      }
    },
    {
      "cell_type": "code",
      "source": [
        "print(\"BIENVENIDO A LA TIENDA DE ROPA\")\n",
        "print(\"1.-PRIMAVERA \\n 2.-VERANO \\n 3.-OTONO \\n 4.-INVIERNO\")\n",
        "temp = int(input(\"Escoje la temporada en la que estamos: \"))\n",
        "print(\"PRECIOS SEGUN COLOR DE ETIQUETA\")\n",
        "print(\"1.-ROJA: $449 \\n 2.-VERDE: $399  \\n 3.-AMARILLA: $249 \")\n",
        "color = int(input(\"Escoge el color de etiqueta que tiene tu producto: \"))\n",
        "roja=449\n",
        "verde=399\n",
        "amarilla=249\n",
        "if temp==1:\n",
        "    if color==3:\n",
        "        print(\"10% DE DESCUENTO EN ARTICULOS CON ETIQUETA AMARILLA\")\n",
        "        desc=amarilla*0.10\n",
        "        total=amarilla-desc\n",
        "else:\n",
        "    if temp==2:\n",
        "        if color<=3:\n",
        "            print(\"20% DE DESCUENTO EN TODA LA TIENDA\")\n",
        "            if color==1:\n",
        "                desc=roja*0.20\n",
        "                total=roja-desc\n",
        "                if color==2:\n",
        "                    desc=verde*0.20\n",
        "                    total=verde-desc\n",
        "                else:\n",
        "                    desc=amarilla*0.20\n",
        "                    total=amarilla-desc\n",
        "    else:\n",
        "        if temp==3:\n",
        "            if color==3:\n",
        "                print(\"10% DE DESCUENTO EN ARTICULOS CON ETIQUETA AMARILLA\")\n",
        "                desc=amarilla*0.10\n",
        "                total=amarilla-desc\n",
        "        else:\n",
        "            if temp==4:\n",
        "                if color==1:\n",
        "                    print(\"30% DE DESCUENTO EN ARTICULOS CON ETIQUETA ROJA\")\n",
        "                    desc=roja*0.30\n",
        "                    total=roja-desc\n",
        "                    if color==2:\n",
        "                        print(\"15% DE DESCUENTO EN ARTICULOS ETIQUETA VERDE\")\n",
        "                        desc=verde*0.15\n",
        "                        tota=verde-desc\n",
        "print(f\"SU TOTAL ES DE: {total}\")"
      ],
      "metadata": {
        "id": "FY-HVm9hSCna",
        "colab": {
          "base_uri": "https://localhost:8080/"
        },
        "outputId": "a29e5de8-55aa-4153-9310-79d67c44ec54"
      },
      "execution_count": 8,
      "outputs": [
        {
          "output_type": "stream",
          "name": "stdout",
          "text": [
            "BIENVENIDO A LA TIENDA DE ROPA\n",
            "1.-PRIMAVERA \n",
            " 2.-VERANO \n",
            " 3.-OTONO \n",
            " 4.-INVIERNO\n",
            "Escoje la temporada en la que estamos: 3\n",
            "PRECIOS SEGUN COLOR DE ETIQUETA\n",
            "1.-ROJA: $449 \n",
            " 2.-VERDE: $399  \n",
            " 3.-AMARILLA: $249 \n",
            "Escoje el color de etiqueta que tiene tu producto: 2\n",
            "SU TOTAL ES DE: 314.3\n"
          ]
        }
      ]
    },
    {
      "cell_type": "markdown",
      "source": [
        "## 10.-Escribe un programa que calcule el precio a pagar por un cliente, tomando en cuenta los descuentos correspondientes. (restaurante)\n",
        "\n"
      ],
      "metadata": {
        "id": "xUtutWUJSDCR"
      }
    },
    {
      "cell_type": "code",
      "source": [
        "print(\"BIENVENIDO AL RESTAURANTE\")\n",
        "print(\"1.-LUNES \\n 2.-MARTES \\n 3.-MIERCOLES \\n 4.-JUEVES \\n 5.-VIERNES\")\n",
        "print(\"6.-SABADO \\n 7.-DOMINGO\")\n",
        "dia = int(input(\"Que dia es hoy? \"))\n",
        "print(\"LISTA DE MENUS\")\n",
        "print(\"1.-DEL DIA: $150 \\n 2.-INFANTIL: $100\")\n",
        "print(\"3.-VEGETARIANO: $200 \\n 4.-DEL CHEF: $175\")\n",
        "deldia=150\n",
        "infantil=100\n",
        "vegetariano=200\n",
        "delchef=175\n",
        "menu = int(input(\"Esoge el menu que quieres: \"))\n",
        "if dia==1:\n",
        "    if menu==1:\n",
        "        print(\"Hoy hay 10% de descuento en menu del dia\")\n",
        "        desc=deldia*0.10\n",
        "        total=deldia-desc\n",
        "else:\n",
        "    if dia==2:\n",
        "        if menu==2: \n",
        "            print(\"Hoy hay 20% de descuento en menu infantil\")\n",
        "            desc=infantil*0.20\n",
        "            total=infantil-desc\n",
        "    else:\n",
        "        if dia==3:\n",
        "            if menu==3:\n",
        "                print(\"Hoy hay 15% de descuento en menu vegetariano\")\n",
        "                desc=vegetariano*0.15\n",
        "                total=vegetariano-desc\n",
        "        else:\n",
        "            if dia==4:\n",
        "                if menu==4:\n",
        "                    print(\"Hoy hay 5% de descuento en menu del chef\")\n",
        "                    desc=delchef*0.05\n",
        "                    total=delchef-desc\n",
        "            else:\n",
        "                if dia==5:\n",
        "                    if menu==1:\n",
        "                        print(\"Hoy hay 5% de descuento en menu del dia\")\n",
        "                        desc=deldia*0.05\n",
        "                        total=deldia-desc\n",
        "                else:\n",
        "                    if dia==6 or dia==7:\n",
        "                        if menu==1:\n",
        "                            print(\"Hoy no hay descuentos\")\n",
        "                            total=deldia\n",
        "                            if menu==2:\n",
        "                                print(\"Hoy no hay descuentos\")\n",
        "                                total=infantil\n",
        "                                if menu==3:\n",
        "                                    print(\"Hoy no hay descuentos\")\n",
        "                                    total=vegetariano\n",
        "                                    if menu==4:\n",
        "                                        print(\"Hoy no hay descuentos\")\n",
        "                                        total=delchef\n",
        "\n",
        "print(f\"Su total es de: {total}\")\n"
      ],
      "metadata": {
        "id": "iUxPogypSHMU"
      },
      "execution_count": null,
      "outputs": []
    }
  ]
}