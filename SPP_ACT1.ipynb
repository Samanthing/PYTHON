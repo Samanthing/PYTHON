{
  "nbformat": 4,
  "nbformat_minor": 0,
  "metadata": {
    "colab": {
      "provenance": [],
      "toc_visible": true,
      "authorship_tag": "ABX9TyPqhk3lNjTYjtDfJBUzSt3F",
      "include_colab_link": true
    },
    "kernelspec": {
      "name": "python3",
      "display_name": "Python 3"
    },
    "language_info": {
      "name": "python"
    }
  },
  "cells": [
    {
      "cell_type": "markdown",
      "metadata": {
        "id": "view-in-github",
        "colab_type": "text"
      },
      "source": [
        "<a href=\"https://colab.research.google.com/github/Samanthing/PYTHON/blob/main/SPP_ACT1.ipynb\" target=\"_parent\"><img src=\"https://colab.research.google.com/assets/colab-badge.svg\" alt=\"Open In Colab\"/></a>"
      ]
    },
    {
      "cell_type": "markdown",
      "source": [
        "# Actividad 1 - Python - Samantha Perez 00368933"
      ],
      "metadata": {
        "id": "K5jqpHqIb9hO"
      }
    },
    {
      "cell_type": "markdown",
      "source": [
        "## 1. Hola Mundo 2 print"
      ],
      "metadata": {
        "id": "GGifLQBacGt8"
      }
    },
    {
      "cell_type": "code",
      "execution_count": 9,
      "metadata": {
        "colab": {
          "base_uri": "https://localhost:8080/"
        },
        "id": "dIGAgs9KbQgz",
        "outputId": "0abe2979-344d-438b-b1ce-bc3e8a1a7647"
      },
      "outputs": [
        {
          "output_type": "stream",
          "name": "stdout",
          "text": [
            "Hola Mundo\n"
          ]
        }
      ],
      "source": [
        "print(\"Hola\",end=f\" \")\n",
        "print(\"Mundo\")"
      ]
    },
    {
      "cell_type": "markdown",
      "source": [
        "## 2. Suma 2 nums "
      ],
      "metadata": {
        "id": "TO4BjmT5daua"
      }
    },
    {
      "cell_type": "code",
      "source": [
        "num1 = int(input(\"Ingresa el primer numero \"))\n",
        "num2 = int(input(\"Ingresa el segundo numero \"))\n",
        "print(f\"La suma de los numeros es igual a {num1+num2}\")"
      ],
      "metadata": {
        "id": "iPJxXNIXdaMy",
        "outputId": "31549a29-b8c5-4019-b215-524074b7efaf",
        "colab": {
          "base_uri": "https://localhost:8080/"
        }
      },
      "execution_count": 18,
      "outputs": [
        {
          "output_type": "stream",
          "name": "stdout",
          "text": [
            "Ingresa el primer numero 9\n",
            "Ingresa el segundo numero 4\n",
            "La suma de los numeros es igual a 13\n"
          ]
        }
      ]
    },
    {
      "cell_type": "markdown",
      "source": [
        "## 3. Operaciones Basicas"
      ],
      "metadata": {
        "id": "IKfyLds9f7sS"
      }
    },
    {
      "cell_type": "code",
      "source": [
        "num1 = int(input(\"Ingresa el primer numero: \"))\n",
        "num2 = int(input(\"Ingresa el segundo numero: \"))\n",
        "print(\"SUMA\")\n",
        "print(f\" {num1} + {num2} = {num1+num2}\")\n",
        "print(\"RESTA\")\n",
        "print(f\"{num1} - {num2} = {num1-num2}\") \n",
        "print(\"MULTIPLICACION\")\n",
        "print(f\"{num1} x {num2} = {num1*num2}\")\n",
        "print(\"DIVISION\")\n",
        "print(f\"{num1} / {num2} = {num1/num2}\")"
      ],
      "metadata": {
        "id": "3JnzPvGjgCjd",
        "outputId": "8aca4ea2-3c76-4ef2-8ad9-e46773dcee81",
        "colab": {
          "base_uri": "https://localhost:8080/"
        }
      },
      "execution_count": 24,
      "outputs": [
        {
          "output_type": "stream",
          "name": "stdout",
          "text": [
            "Ingresa el primer numero: 16\n",
            "Ingresa el segundo numero: 2\n",
            "SUMA\n",
            " 16 + 2 = 18\n",
            "RESTA\n",
            "16 - 2 = 14\n",
            "MULTIPLICACION\n",
            "16 x 2 = 32\n",
            "DIVISION\n",
            "16 / 2 = 8.0\n"
          ]
        }
      ]
    },
    {
      "cell_type": "markdown",
      "source": [
        "## 4. Area de un triangulo"
      ],
      "metadata": {
        "id": "yNhBVUL1iW_x"
      }
    },
    {
      "cell_type": "code",
      "source": [
        "base = int(input(\"Ingresa la base del triangulo: \"))\n",
        "altura = int(input(\"Ingresa la altura del triangulo: \"))\n",
        "print(f\"El area de este triangulo es de: {(base*altura)/2}\")"
      ],
      "metadata": {
        "id": "w3T_CmfCifPs",
        "outputId": "1570a744-0aea-4a70-ef66-28226c4df63a",
        "colab": {
          "base_uri": "https://localhost:8080/"
        }
      },
      "execution_count": 26,
      "outputs": [
        {
          "output_type": "stream",
          "name": "stdout",
          "text": [
            "Ingresa la base del triangulo: 18\n",
            "Ingresa la altura del triangulo: 4\n",
            "El area de este triangulo es de: 36.0\n"
          ]
        }
      ]
    },
    {
      "cell_type": "markdown",
      "source": [
        "## 5. Centimetros - Pies & Pulgadas"
      ],
      "metadata": {
        "id": "rZcDiZpMjA7a"
      }
    },
    {
      "cell_type": "code",
      "source": [
        "cm = int(input(\"Ingresa tu medida en centimetros: \"))\n",
        "inch = 2.54\n",
        "ft = 30.48\n",
        "print(f\"La medida en pulgadas es igual a: {cm/inch}\")\n",
        "print(f\"La medida en pies es igual a: {cm/ft}\")"
      ],
      "metadata": {
        "id": "ozltaQqnjHDf",
        "outputId": "158afb0e-e090-4768-cc30-72c2424c656d",
        "colab": {
          "base_uri": "https://localhost:8080/"
        }
      },
      "execution_count": 27,
      "outputs": [
        {
          "output_type": "stream",
          "name": "stdout",
          "text": [
            "Ingresa tu medida en centimetros: 16\n",
            "La medida en pulgadas es igual a: 6.299212598425196\n",
            "La medida en pies es igual a: 0.5249343832020997\n"
          ]
        }
      ]
    },
    {
      "cell_type": "markdown",
      "source": [
        "## 6. Centigrados - Kelvin & Fahrenheit"
      ],
      "metadata": {
        "id": "xAmXyGj7klZM"
      }
    },
    {
      "cell_type": "code",
      "source": [
        "gradosc = int(input(\"Ingresa los grados centigrados: \"))\n",
        "gradosf = (gradosc*(9/5))+32\n",
        "gradosk = gradosc+273.15\n",
        "print(f\"Grados Fahrenheit: {gradosf}\")\n",
        "print(f\"Grados Kelvin: {gradosk}\")\n"
      ],
      "metadata": {
        "id": "6tur6lQXkt2A",
        "outputId": "4c2734d6-3392-4a84-ed49-67291786fbae",
        "colab": {
          "base_uri": "https://localhost:8080/"
        }
      },
      "execution_count": 28,
      "outputs": [
        {
          "output_type": "stream",
          "name": "stdout",
          "text": [
            "Ingresa los grados centigrados: 23\n",
            "Grados Fahrenheit: 73.4\n",
            "Grados Kelvin: 296.15\n"
          ]
        }
      ]
    },
    {
      "cell_type": "markdown",
      "source": [
        "## 7. Promedio de 4 calificaciones"
      ],
      "metadata": {
        "id": "tEsVi5-mlrmG"
      }
    },
    {
      "cell_type": "code",
      "source": [
        "calf1 = int(input(\"Ingresa la primer calificacion: \"))\n",
        "calf2 = int(input(\"Ingresa la segunda calificacion: \"))\n",
        "calf3 = int(input(\"Ingresa la tercer calificacion: \"))\n",
        "calf4 = int(input(\"Ingresa la cuarta calificacion: \"))\n",
        "print(f\"Tu promedio es de {(calf1+calf2+calf3+calf4)/4}\")\n"
      ],
      "metadata": {
        "id": "IF6gWRWNl0os",
        "outputId": "f0e98606-3b8c-4304-e2ec-39b19c3343ab",
        "colab": {
          "base_uri": "https://localhost:8080/"
        }
      },
      "execution_count": 31,
      "outputs": [
        {
          "output_type": "stream",
          "name": "stdout",
          "text": [
            "Ingresa la primer calificacion: 100\n",
            "Ingresa la segunda calificacion: 67\n",
            "Ingresa la tercer calificacion: 89\n",
            "Ingresa la cuarta calificacion: 56\n",
            "Tu promedio es de 78.0\n"
          ]
        }
      ]
    }
  ]
}