{
  "nbformat": 4,
  "nbformat_minor": 0,
  "metadata": {
    "colab": {
      "provenance": [],
      "authorship_tag": "ABX9TyNIWX5xcOcsaonGoISUItUp",
      "include_colab_link": true
    },
    "kernelspec": {
      "name": "python3",
      "display_name": "Python 3"
    },
    "language_info": {
      "name": "python"
    }
  },
  "cells": [
    {
      "cell_type": "markdown",
      "metadata": {
        "id": "view-in-github",
        "colab_type": "text"
      },
      "source": [
        "<a href=\"https://colab.research.google.com/github/Samanthing/PYTHON/blob/main/SPP_PY_EX1_1.ipynb\" target=\"_parent\"><img src=\"https://colab.research.google.com/assets/colab-badge.svg\" alt=\"Open In Colab\"/></a>"
      ]
    },
    {
      "cell_type": "code",
      "execution_count": 46,
      "metadata": {
        "id": "q7Zdz_1lp_0H",
        "colab": {
          "base_uri": "https://localhost:8080/"
        },
        "outputId": "af43529a-4bcc-4124-ddea-7c2e551071fa"
      },
      "outputs": [
        {
          "output_type": "stream",
          "name": "stdout",
          "text": [
            "Ingresa un numero: 5\n",
            "4 x 5\n",
            "3 x 20\n",
            "2 x 60\n",
            "1 x 120\n",
            "El factorial de 5 es 120\n"
          ]
        }
      ],
      "source": [
        "##Escribe una funcion de Python en collaboratory que realice lo siguiente: funcion que retorne el factorial de un numero dado  \n",
        "## Escribir codigo que mande llamar la funcion y desplegar el resultado, Escribir enlace a GITHUB a un dcto que se llame INICIALES_PY_exa1\n",
        "\n",
        "def fact():\n",
        "    try:\n",
        "        i=0\n",
        "        num=int(input(\"Ingresa un numero: \"))\n",
        "        numant=num\n",
        "        sig=num-1\n",
        "        while i<num-1:\n",
        "            fact=numant*sig\n",
        "            print(f\"{sig} x {numant}\")\n",
        "            numant=fact\n",
        "            sig=sig-1\n",
        "            i+=1\n",
        "        print(f\"El factorial de {num} es {fact}\")\n",
        "    except:\n",
        "        print(\"ERROR: el valor debe ser un numero\")\n",
        "fact()\n",
        "\n",
        "\n",
        "\n",
        "\n"
      ]
    }
  ]
}