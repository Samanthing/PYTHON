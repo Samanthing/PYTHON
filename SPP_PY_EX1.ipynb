{
  "nbformat": 4,
  "nbformat_minor": 0,
  "metadata": {
    "colab": {
      "provenance": [],
      "authorship_tag": "ABX9TyNlamc3Vc4So/hy5XbxC9ZK",
      "include_colab_link": true
    },
    "kernelspec": {
      "name": "python3",
      "display_name": "Python 3"
    },
    "language_info": {
      "name": "python"
    }
  },
  "cells": [
    {
      "cell_type": "markdown",
      "metadata": {
        "id": "view-in-github",
        "colab_type": "text"
      },
      "source": [
        "<a href=\"https://colab.research.google.com/github/Samanthing/PYTHON/blob/main/SPP_PY_EX1.ipynb\" target=\"_parent\"><img src=\"https://colab.research.google.com/assets/colab-badge.svg\" alt=\"Open In Colab\"/></a>"
      ]
    },
    {
      "cell_type": "code",
      "execution_count": null,
      "metadata": {
        "id": "q7Zdz_1lp_0H"
      },
      "outputs": [],
      "source": [
        "##Escribe una funcion de Python en collaboratory que realice lo siguiente: funcion que retorne el factorial de un numero dado  \n",
        "## Escribir codigo que mande llamar la funcion y desplegar el resultado, Escribir enlace a GITHUB a un dcto que se llame INICIALES_PY_exa1\n",
        "\n",
        "def fact():\n",
        "    try:\n",
        "        i=0\n",
        "        num=int(input(\"Ingresa un numero: \"))\n",
        "        numant=num\n",
        "        sig=num-1\n",
        "        while i<num-1:\n",
        "            fact=numant*sig\n",
        "            print(f\"{sig} x {numant}\")\n",
        "            numant=fact\n",
        "            sig=sig-1\n",
        "            i+=1\n",
        "        print(f\"El factorial de {num} es {fact}\")\n",
        "    except:\n",
        "        print(\"ERROR: el valor debe ser un numero\")\n",
        "fact()\n",
        "\n",
        "\n",
        "\n",
        "\n"
      ]
    },
    {
      "cell_type": "code",
      "source": [
        "##Escribe una funcion de Python en collaboratory que realice lo siguiente: funcion que retorne una lista con 30 numeros generados aleatorios (20-100) no repetidos \n",
        "##Escribir codigo que mande llamar la funcion y desplegar el resultado,\n",
        "import random\n",
        "def numsale():\n",
        "    for i in range(1,31):\n",
        "        num=random.randint(20,100)\n",
        "        print(f\"{i}- {num}\")\n",
        "\n",
        "numsale()"
      ],
      "metadata": {
        "colab": {
          "base_uri": "https://localhost:8080/"
        },
        "id": "BwjpPW3vwyXs",
        "outputId": "54046f3b-ac6a-4d7c-f34b-2904298cf040"
      },
      "execution_count": 50,
      "outputs": [
        {
          "output_type": "stream",
          "name": "stdout",
          "text": [
            "1- 77\n",
            "2- 94\n",
            "3- 43\n",
            "4- 94\n",
            "5- 60\n",
            "6- 29\n",
            "7- 22\n",
            "8- 92\n",
            "9- 49\n",
            "10- 47\n",
            "11- 85\n",
            "12- 52\n",
            "13- 93\n",
            "14- 51\n",
            "15- 31\n",
            "16- 23\n",
            "17- 86\n",
            "18- 94\n",
            "19- 20\n",
            "20- 66\n",
            "21- 27\n",
            "22- 49\n",
            "23- 21\n",
            "24- 71\n",
            "25- 44\n",
            "26- 75\n",
            "27- 88\n",
            "28- 66\n",
            "29- 24\n",
            "30- 47\n"
          ]
        }
      ]
    },
    {
      "cell_type": "code",
      "source": [
        "##Escribe una funcion de Python en collaboratory que realice lo siguiente:\n",
        "##funcion que retorne un numero dentro de un rango dado, validar el numero que cumpla el requisito del rango, la funcion debera validar que el programa no marque error por introducir informacion erronea (usar try except)\n",
        "##Escribir codigo que mande llamar la funcion y desplegar el resultado\n",
        "\n",
        "\n",
        "import random\n",
        "def numrango(r1,r2):\n",
        "    num=random.randint(r1,r2)\n",
        "    print(f\"El numero es: {num}\")\n",
        "try:\n",
        "    r1=int(input(\"Ingresa el valor del primer rango: \"))\n",
        "    r2=int(input(\"Ingresa el valor del segundo rango: \"))\n",
        "    numrango(r1,r2)\n",
        "except:\n",
        "    print(\"Error: debes ingresar un numero\")"
      ],
      "metadata": {
        "colab": {
          "base_uri": "https://localhost:8080/"
        },
        "id": "swkOEMyPzGXE",
        "outputId": "7891b724-30b7-4b0d-bb72-f33ae5e5c291"
      },
      "execution_count": 66,
      "outputs": [
        {
          "output_type": "stream",
          "name": "stdout",
          "text": [
            "Ingresa el valor del primer rango: 1\n",
            "Ingresa el valor del segundo rango: 20\n",
            "El numero es: 10\n"
          ]
        }
      ]
    }
  ]
}